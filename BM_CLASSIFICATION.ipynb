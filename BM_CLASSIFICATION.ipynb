{
  "nbformat": 4,
  "nbformat_minor": 0,
  "metadata": {
    "colab": {
      "name": "BM - CLASSIFICATION.ipynb",
      "provenance": [],
      "toc_visible": true
    },
    "kernelspec": {
      "name": "python3",
      "display_name": "Python 3"
    },
    "language_info": {
      "name": "python"
    }
  },
  "cells": [
    {
      "cell_type": "markdown",
      "metadata": {
        "id": "HqAC0LbHEh9G"
      },
      "source": [
        "#**IMPORT LIBRARY & DATA**"
      ]
    },
    {
      "cell_type": "code",
      "metadata": {
        "id": "AUnNDAr3CTL0"
      },
      "source": [
        "import numpy as np                \n",
        "import pandas as pd               \n",
        "import matplotlib.pyplot as plt   \n",
        "import seaborn as sns             \n",
        "%matplotlib inline\n",
        "\n",
        "import warnings\n",
        "warnings.simplefilter(action='ignore')\n",
        "\n",
        "pd.set_option('float_format', '{:.2f}'.format)  # Show float data in two decimal number"
      ],
      "execution_count": null,
      "outputs": []
    },
    {
      "cell_type": "code",
      "metadata": {
        "colab": {
          "base_uri": "https://localhost:8080/"
        },
        "id": "bmpaqstHEgC4",
        "outputId": "638f37ff-dec3-4829-bea5-f779f974022d"
      },
      "source": [
        "from google.colab import drive\n",
        "drive.mount('/content/gdrive')"
      ],
      "execution_count": null,
      "outputs": [
        {
          "output_type": "stream",
          "name": "stdout",
          "text": [
            "Mounted at /content/gdrive\n"
          ]
        }
      ]
    },
    {
      "cell_type": "code",
      "metadata": {
        "id": "XHUf9oKaDzsU"
      },
      "source": [
        "df = pd.read_csv('/content/gdrive/MyDrive/Final Project/bank_marketing_cleaned.csv')"
      ],
      "execution_count": null,
      "outputs": []
    },
    {
      "cell_type": "code",
      "metadata": {
        "colab": {
          "base_uri": "https://localhost:8080/"
        },
        "id": "emn_1d_qLmcn",
        "outputId": "07e568a0-cd10-421f-e6cd-6eb2c8bd2bf2"
      },
      "source": [
        "# GROUP 1: All basic information of a client\n",
        "client = df.columns[0:8]\n",
        "\n",
        "#GROUP 2: Related with the last contact of the current campaign\n",
        "ccampaign = df.columns[8:13]\n",
        "\n",
        "# GROUP 3: previous campaign attributes\n",
        "pcampaign = df.columns[13:16]\n",
        "\n",
        "# GROUP 4: Social and economic context attributes\n",
        "context = df.columns[16:-1]\n",
        "\n",
        "# GROUP 5: True label\n",
        "conversion = df.columns[-1]\n",
        "\n",
        "print(f'Basic client information:\\n{client}\\n')\n",
        "print(f'Related with the last contact of the current campaign:\\n{ccampaign}\\n')\n",
        "print(f'Previous campaign attributes:\\n{pcampaign}\\n')\n",
        "print(f'Social and economic context attributes:\\n{context}\\n')\n",
        "print(f'True label:\\n{conversion}\\n')"
      ],
      "execution_count": null,
      "outputs": [
        {
          "output_type": "stream",
          "name": "stdout",
          "text": [
            "Basic client information:\n",
            "Index(['age', 'age_group', 'job', 'marital', 'education', 'default', 'housing',\n",
            "       'loan'],\n",
            "      dtype='object')\n",
            "\n",
            "Related with the last contact of the current campaign:\n",
            "Index(['contact', 'month', 'day_of_week', 'duration', 'campaign'], dtype='object')\n",
            "\n",
            "Previous campaign attributes:\n",
            "Index(['pdays', 'previous', 'poutcome'], dtype='object')\n",
            "\n",
            "Social and economic context attributes:\n",
            "Index(['emp.var.rate', 'cons.price.idx', 'cons.conf.idx', 'euribor3m',\n",
            "       'nr.employed'],\n",
            "      dtype='object')\n",
            "\n",
            "True label:\n",
            "y\n",
            "\n"
          ]
        }
      ]
    },
    {
      "cell_type": "markdown",
      "metadata": {
        "id": "zKclT-LteyNS"
      },
      "source": [
        "# **DATA PREPARATION FOR TRAINING**"
      ]
    },
    {
      "cell_type": "markdown",
      "metadata": {
        "id": "20ogW4HvOl7f"
      },
      "source": [
        "## DATA PREPARATION"
      ]
    },
    {
      "cell_type": "code",
      "metadata": {
        "id": "FJcKXyXNUw3A"
      },
      "source": [
        "from sklearn.pipeline import Pipeline\n",
        "from sklearn.impute import SimpleImputer\n",
        "from sklearn.preprocessing import MinMaxScaler\n",
        "from sklearn.compose import ColumnTransformer\n",
        "from sklearn.preprocessing import OneHotEncoder"
      ],
      "execution_count": null,
      "outputs": []
    },
    {
      "cell_type": "code",
      "metadata": {
        "colab": {
          "base_uri": "https://localhost:8080/"
        },
        "id": "MaDUcBKLe5bP",
        "outputId": "b30e57dd-3c60-4899-bf20-fba480d252e0"
      },
      "source": [
        "X = df[list(client)+list(pcampaign)+list(context)].drop(columns=['age_group','cons.conf.idx'])\n",
        "y = df[conversion]\n",
        "\n",
        "# X.age_group = X.age_group.astype(str)\n",
        "X.education = X.education.astype(str)\n",
        "# X.housing = X.housing.astype(str)\n",
        "# X.loan = X.loan.astype(str)\n",
        "# X.default = X.default.astype(str)\n",
        "# X.education = X.education.astype('float')\n",
        "\n",
        "X.info()"
      ],
      "execution_count": null,
      "outputs": [
        {
          "output_type": "stream",
          "name": "stdout",
          "text": [
            "<class 'pandas.core.frame.DataFrame'>\n",
            "RangeIndex: 41188 entries, 0 to 41187\n",
            "Data columns (total 14 columns):\n",
            " #   Column          Non-Null Count  Dtype  \n",
            "---  ------          --------------  -----  \n",
            " 0   age             41188 non-null  int64  \n",
            " 1   job             41188 non-null  object \n",
            " 2   marital         41188 non-null  object \n",
            " 3   education       41188 non-null  object \n",
            " 4   default         41188 non-null  object \n",
            " 5   housing         41188 non-null  object \n",
            " 6   loan            41188 non-null  object \n",
            " 7   pdays           41188 non-null  int64  \n",
            " 8   previous        41188 non-null  int64  \n",
            " 9   poutcome        41188 non-null  object \n",
            " 10  emp.var.rate    41188 non-null  float64\n",
            " 11  cons.price.idx  41188 non-null  float64\n",
            " 12  euribor3m       41188 non-null  float64\n",
            " 13  nr.employed     41188 non-null  float64\n",
            "dtypes: float64(4), int64(3), object(7)\n",
            "memory usage: 4.4+ MB\n"
          ]
        }
      ]
    },
    {
      "cell_type": "code",
      "metadata": {
        "colab": {
          "base_uri": "https://localhost:8080/",
          "height": 204
        },
        "id": "NMjvsJ235V_y",
        "outputId": "3bb25775-12dc-4157-a44b-f42aaaab5d4a"
      },
      "source": [
        "X.head()"
      ],
      "execution_count": null,
      "outputs": [
        {
          "output_type": "execute_result",
          "data": {
            "text/html": [
              "<div>\n",
              "<style scoped>\n",
              "    .dataframe tbody tr th:only-of-type {\n",
              "        vertical-align: middle;\n",
              "    }\n",
              "\n",
              "    .dataframe tbody tr th {\n",
              "        vertical-align: top;\n",
              "    }\n",
              "\n",
              "    .dataframe thead th {\n",
              "        text-align: right;\n",
              "    }\n",
              "</style>\n",
              "<table border=\"1\" class=\"dataframe\">\n",
              "  <thead>\n",
              "    <tr style=\"text-align: right;\">\n",
              "      <th></th>\n",
              "      <th>age</th>\n",
              "      <th>job</th>\n",
              "      <th>marital</th>\n",
              "      <th>education</th>\n",
              "      <th>default</th>\n",
              "      <th>housing</th>\n",
              "      <th>loan</th>\n",
              "      <th>pdays</th>\n",
              "      <th>previous</th>\n",
              "      <th>poutcome</th>\n",
              "      <th>emp.var.rate</th>\n",
              "      <th>cons.price.idx</th>\n",
              "      <th>euribor3m</th>\n",
              "      <th>nr.employed</th>\n",
              "    </tr>\n",
              "  </thead>\n",
              "  <tbody>\n",
              "    <tr>\n",
              "      <th>0</th>\n",
              "      <td>56</td>\n",
              "      <td>housemaid</td>\n",
              "      <td>married</td>\n",
              "      <td>2</td>\n",
              "      <td>0</td>\n",
              "      <td>0</td>\n",
              "      <td>0</td>\n",
              "      <td>999</td>\n",
              "      <td>0</td>\n",
              "      <td>nonexistent</td>\n",
              "      <td>1.10</td>\n",
              "      <td>93.99</td>\n",
              "      <td>4.86</td>\n",
              "      <td>5191.00</td>\n",
              "    </tr>\n",
              "    <tr>\n",
              "      <th>1</th>\n",
              "      <td>57</td>\n",
              "      <td>services</td>\n",
              "      <td>married</td>\n",
              "      <td>5</td>\n",
              "      <td>unknown</td>\n",
              "      <td>0</td>\n",
              "      <td>0</td>\n",
              "      <td>999</td>\n",
              "      <td>0</td>\n",
              "      <td>nonexistent</td>\n",
              "      <td>1.10</td>\n",
              "      <td>93.99</td>\n",
              "      <td>4.86</td>\n",
              "      <td>5191.00</td>\n",
              "    </tr>\n",
              "    <tr>\n",
              "      <th>2</th>\n",
              "      <td>37</td>\n",
              "      <td>services</td>\n",
              "      <td>married</td>\n",
              "      <td>5</td>\n",
              "      <td>0</td>\n",
              "      <td>1</td>\n",
              "      <td>0</td>\n",
              "      <td>999</td>\n",
              "      <td>0</td>\n",
              "      <td>nonexistent</td>\n",
              "      <td>1.10</td>\n",
              "      <td>93.99</td>\n",
              "      <td>4.86</td>\n",
              "      <td>5191.00</td>\n",
              "    </tr>\n",
              "    <tr>\n",
              "      <th>3</th>\n",
              "      <td>40</td>\n",
              "      <td>admin.</td>\n",
              "      <td>married</td>\n",
              "      <td>3</td>\n",
              "      <td>0</td>\n",
              "      <td>0</td>\n",
              "      <td>0</td>\n",
              "      <td>999</td>\n",
              "      <td>0</td>\n",
              "      <td>nonexistent</td>\n",
              "      <td>1.10</td>\n",
              "      <td>93.99</td>\n",
              "      <td>4.86</td>\n",
              "      <td>5191.00</td>\n",
              "    </tr>\n",
              "    <tr>\n",
              "      <th>4</th>\n",
              "      <td>56</td>\n",
              "      <td>services</td>\n",
              "      <td>married</td>\n",
              "      <td>5</td>\n",
              "      <td>0</td>\n",
              "      <td>0</td>\n",
              "      <td>1</td>\n",
              "      <td>999</td>\n",
              "      <td>0</td>\n",
              "      <td>nonexistent</td>\n",
              "      <td>1.10</td>\n",
              "      <td>93.99</td>\n",
              "      <td>4.86</td>\n",
              "      <td>5191.00</td>\n",
              "    </tr>\n",
              "  </tbody>\n",
              "</table>\n",
              "</div>"
            ],
            "text/plain": [
              "   age        job  marital  ... cons.price.idx euribor3m nr.employed\n",
              "0   56  housemaid  married  ...          93.99      4.86     5191.00\n",
              "1   57   services  married  ...          93.99      4.86     5191.00\n",
              "2   37   services  married  ...          93.99      4.86     5191.00\n",
              "3   40     admin.  married  ...          93.99      4.86     5191.00\n",
              "4   56   services  married  ...          93.99      4.86     5191.00\n",
              "\n",
              "[5 rows x 14 columns]"
            ]
          },
          "metadata": {},
          "execution_count": 24
        }
      ]
    },
    {
      "cell_type": "code",
      "metadata": {
        "colab": {
          "base_uri": "https://localhost:8080/"
        },
        "id": "Ih8TH8djh46q",
        "outputId": "f025bba2-f98c-4c85-b11c-26b05035eed8"
      },
      "source": [
        "print(f'shape of X: {X.shape} \\nshape of y: {y.shape}')"
      ],
      "execution_count": null,
      "outputs": [
        {
          "output_type": "stream",
          "name": "stdout",
          "text": [
            "shape of X: (41188, 14) \n",
            "shape of y: (41188,)\n"
          ]
        }
      ]
    },
    {
      "cell_type": "code",
      "metadata": {
        "id": "xTKcS51OOvrq"
      },
      "source": [
        "# https://datascience.stackexchange.com/questions/78194/is-it-possible-to-have-stratified-train-test-split-of-a-set-based-on-two-columns\n",
        "from sklearn.model_selection import train_test_split\n",
        "\n",
        "X_train, X_test, y_train, y_test = train_test_split(X,y,\n",
        "                                                    test_size = 0.1,\n",
        "                                                    shuffle=True,\n",
        "                                                    stratify=pd.concat([X[\"job\"], y], axis=1),\n",
        "                                                    random_state=42)\n",
        "\n",
        "X_train, X_val, y_train, y_val   = train_test_split(X_train, y_train,\n",
        "                                                  test_size = 0.2,\n",
        "                                                  shuffle=True,\n",
        "                                                  stratify=pd.concat([X_train[\"job\"], y_train], axis=1),\n",
        "                                                  random_state=42)"
      ],
      "execution_count": null,
      "outputs": []
    },
    {
      "cell_type": "code",
      "metadata": {
        "colab": {
          "base_uri": "https://localhost:8080/"
        },
        "id": "0gm0Hi1ZUAVp",
        "outputId": "e474da96-0c4b-4206-9fc7-718da3ee9e71"
      },
      "source": [
        "for d in [X_train, y_train, X_val, y_val, X_test, y_test]:\n",
        "  print(d.shape)"
      ],
      "execution_count": null,
      "outputs": [
        {
          "output_type": "stream",
          "name": "stdout",
          "text": [
            "(29655, 14)\n",
            "(29655,)\n",
            "(7414, 14)\n",
            "(7414,)\n",
            "(4119, 14)\n",
            "(4119,)\n"
          ]
        }
      ]
    },
    {
      "cell_type": "code",
      "metadata": {
        "cellView": "form",
        "id": "LGVi_fvwj4-r"
      },
      "source": [
        "#@title Save Dataset\n",
        "\n",
        "X_train.to_csv('X_train.csv', index=False)\n",
        "!cp X_train.csv '/content/gdrive/MyDrive/Final Project'\n",
        "\n",
        "X_val.to_csv('X_val.csv', index=False)\n",
        "!cp X_val.csv '/content/gdrive/MyDrive/Final Project'\n",
        "\n",
        "X_test.to_csv('X_test.csv', index=False)\n",
        "!cp X_test.csv '/content/gdrive/MyDrive/Final Project'\n",
        "\n",
        "y_train.to_csv('y_train.csv', index=False)\n",
        "!cp y_train.csv '/content/gdrive/MyDrive/Final Project'\n",
        "\n",
        "y_val.to_csv('y_val.csv', index=False)\n",
        "!cp y_val.csv '/content/gdrive/MyDrive/Final Project'\n",
        "\n",
        "y_test.to_csv('y_test.csv', index=False)\n",
        "!cp X_test.csv '/content/gdrive/MyDrive/Final Project'"
      ],
      "execution_count": null,
      "outputs": []
    },
    {
      "cell_type": "markdown",
      "metadata": {
        "id": "YIe_IQNAOrQX"
      },
      "source": [
        "## PIPELINE PREPARATION"
      ]
    },
    {
      "cell_type": "code",
      "metadata": {
        "colab": {
          "base_uri": "https://localhost:8080/"
        },
        "id": "vhbU1pLcSzEl",
        "outputId": "edbbe3f5-1841-4d2e-8a74-9d10de33996e"
      },
      "source": [
        "num_features = list(X.select_dtypes('number').columns)\n",
        "cat_features = list(X.select_dtypes('object').columns)\n",
        "\n",
        "print(num_features)\n",
        "print(cat_features)"
      ],
      "execution_count": null,
      "outputs": [
        {
          "output_type": "stream",
          "name": "stdout",
          "text": [
            "['age', 'pdays', 'previous', 'emp.var.rate', 'cons.price.idx', 'euribor3m', 'nr.employed']\n",
            "['job', 'marital', 'education', 'default', 'housing', 'loan', 'poutcome']\n"
          ]
        }
      ]
    },
    {
      "cell_type": "code",
      "metadata": {
        "id": "lrRpLGaaUt2z"
      },
      "source": [
        "# PIPELINE FOR NUMERICAL FEATURES\n",
        "num_pipe = Pipeline(steps=\n",
        "                    [\n",
        "                      ('impute', SimpleImputer(strategy='mean')),\n",
        "                      ('scale', MinMaxScaler())\n",
        "                     ]\n",
        "                    )\n",
        "\n",
        "# PIPELINE FOR CATEGORICAL FEATURES\n",
        "cat_pipe = Pipeline(steps=\n",
        "                    [\n",
        "                      ('impute', SimpleImputer(strategy ='constant')),\n",
        "                      ('onehot' , OneHotEncoder(handle_unknown='ignore',sparse=False))\n",
        "                     ]\n",
        "                    )"
      ],
      "execution_count": null,
      "outputs": []
    },
    {
      "cell_type": "code",
      "metadata": {
        "id": "huOaJAmLU_JL",
        "cellView": "form"
      },
      "source": [
        "#@title Test to find error feature\n",
        "for feature in num_features+cat_features:\n",
        "\n",
        "  col_transform = ColumnTransformer(transformers=\n",
        "                                    [\n",
        "                                      ('cat_col', cat_pipe, [feature]),\n",
        "                                      ('num_col', num_pipe, num_features)                                                \n",
        "                                    ]\n",
        "                                    )\n",
        "  print(feature)\n",
        "  col_transform.fit_transform(X)"
      ],
      "execution_count": null,
      "outputs": []
    },
    {
      "cell_type": "code",
      "metadata": {
        "colab": {
          "base_uri": "https://localhost:8080/",
          "height": 224
        },
        "id": "I9tzcv4TsB0z",
        "outputId": "5b614abb-bb32-42c6-9885-099b0e0e3e04"
      },
      "source": [
        "# COLUMN TRANSFORMATION\n",
        "col_transform = ColumnTransformer(transformers=\n",
        "                                    [\n",
        "                                      ('num_col', num_pipe, num_features),\n",
        "                                      ('cat_col', cat_pipe, cat_features)                                                \n",
        "                                    ]\n",
        "                                    )\n",
        "\n",
        "  # DATAFRAME AFTER TRANSFORMATION\n",
        "data = pd.DataFrame(col_transform.fit_transform(X))\n",
        "data.head()"
      ],
      "execution_count": null,
      "outputs": [
        {
          "output_type": "execute_result",
          "data": {
            "text/html": [
              "<div>\n",
              "<style scoped>\n",
              "    .dataframe tbody tr th:only-of-type {\n",
              "        vertical-align: middle;\n",
              "    }\n",
              "\n",
              "    .dataframe tbody tr th {\n",
              "        vertical-align: top;\n",
              "    }\n",
              "\n",
              "    .dataframe thead th {\n",
              "        text-align: right;\n",
              "    }\n",
              "</style>\n",
              "<table border=\"1\" class=\"dataframe\">\n",
              "  <thead>\n",
              "    <tr style=\"text-align: right;\">\n",
              "      <th></th>\n",
              "      <th>0</th>\n",
              "      <th>1</th>\n",
              "      <th>2</th>\n",
              "      <th>3</th>\n",
              "      <th>4</th>\n",
              "      <th>5</th>\n",
              "      <th>6</th>\n",
              "      <th>7</th>\n",
              "      <th>8</th>\n",
              "      <th>9</th>\n",
              "      <th>10</th>\n",
              "      <th>11</th>\n",
              "      <th>12</th>\n",
              "      <th>13</th>\n",
              "      <th>14</th>\n",
              "      <th>15</th>\n",
              "      <th>16</th>\n",
              "      <th>17</th>\n",
              "      <th>18</th>\n",
              "      <th>19</th>\n",
              "      <th>20</th>\n",
              "      <th>21</th>\n",
              "      <th>22</th>\n",
              "      <th>23</th>\n",
              "      <th>24</th>\n",
              "      <th>25</th>\n",
              "      <th>26</th>\n",
              "      <th>27</th>\n",
              "      <th>28</th>\n",
              "      <th>29</th>\n",
              "      <th>30</th>\n",
              "      <th>31</th>\n",
              "      <th>32</th>\n",
              "      <th>33</th>\n",
              "      <th>34</th>\n",
              "      <th>35</th>\n",
              "      <th>36</th>\n",
              "      <th>37</th>\n",
              "      <th>38</th>\n",
              "      <th>39</th>\n",
              "      <th>40</th>\n",
              "      <th>41</th>\n",
              "    </tr>\n",
              "  </thead>\n",
              "  <tbody>\n",
              "    <tr>\n",
              "      <th>0</th>\n",
              "      <td>0.48</td>\n",
              "      <td>1.00</td>\n",
              "      <td>0.00</td>\n",
              "      <td>0.94</td>\n",
              "      <td>0.70</td>\n",
              "      <td>0.96</td>\n",
              "      <td>0.86</td>\n",
              "      <td>0.00</td>\n",
              "      <td>0.00</td>\n",
              "      <td>0.00</td>\n",
              "      <td>1.00</td>\n",
              "      <td>0.00</td>\n",
              "      <td>0.00</td>\n",
              "      <td>0.00</td>\n",
              "      <td>0.00</td>\n",
              "      <td>0.00</td>\n",
              "      <td>0.00</td>\n",
              "      <td>0.00</td>\n",
              "      <td>0.00</td>\n",
              "      <td>0.00</td>\n",
              "      <td>1.00</td>\n",
              "      <td>0.00</td>\n",
              "      <td>0.00</td>\n",
              "      <td>0.00</td>\n",
              "      <td>1.00</td>\n",
              "      <td>0.00</td>\n",
              "      <td>0.00</td>\n",
              "      <td>0.00</td>\n",
              "      <td>0.00</td>\n",
              "      <td>0.00</td>\n",
              "      <td>1.00</td>\n",
              "      <td>0.00</td>\n",
              "      <td>0.00</td>\n",
              "      <td>1.00</td>\n",
              "      <td>0.00</td>\n",
              "      <td>0.00</td>\n",
              "      <td>1.00</td>\n",
              "      <td>0.00</td>\n",
              "      <td>0.00</td>\n",
              "      <td>0.00</td>\n",
              "      <td>1.00</td>\n",
              "      <td>0.00</td>\n",
              "    </tr>\n",
              "    <tr>\n",
              "      <th>1</th>\n",
              "      <td>0.49</td>\n",
              "      <td>1.00</td>\n",
              "      <td>0.00</td>\n",
              "      <td>0.94</td>\n",
              "      <td>0.70</td>\n",
              "      <td>0.96</td>\n",
              "      <td>0.86</td>\n",
              "      <td>0.00</td>\n",
              "      <td>0.00</td>\n",
              "      <td>0.00</td>\n",
              "      <td>0.00</td>\n",
              "      <td>0.00</td>\n",
              "      <td>0.00</td>\n",
              "      <td>0.00</td>\n",
              "      <td>1.00</td>\n",
              "      <td>0.00</td>\n",
              "      <td>0.00</td>\n",
              "      <td>0.00</td>\n",
              "      <td>0.00</td>\n",
              "      <td>0.00</td>\n",
              "      <td>1.00</td>\n",
              "      <td>0.00</td>\n",
              "      <td>0.00</td>\n",
              "      <td>0.00</td>\n",
              "      <td>0.00</td>\n",
              "      <td>0.00</td>\n",
              "      <td>0.00</td>\n",
              "      <td>1.00</td>\n",
              "      <td>0.00</td>\n",
              "      <td>0.00</td>\n",
              "      <td>0.00</td>\n",
              "      <td>0.00</td>\n",
              "      <td>1.00</td>\n",
              "      <td>1.00</td>\n",
              "      <td>0.00</td>\n",
              "      <td>0.00</td>\n",
              "      <td>1.00</td>\n",
              "      <td>0.00</td>\n",
              "      <td>0.00</td>\n",
              "      <td>0.00</td>\n",
              "      <td>1.00</td>\n",
              "      <td>0.00</td>\n",
              "    </tr>\n",
              "    <tr>\n",
              "      <th>2</th>\n",
              "      <td>0.25</td>\n",
              "      <td>1.00</td>\n",
              "      <td>0.00</td>\n",
              "      <td>0.94</td>\n",
              "      <td>0.70</td>\n",
              "      <td>0.96</td>\n",
              "      <td>0.86</td>\n",
              "      <td>0.00</td>\n",
              "      <td>0.00</td>\n",
              "      <td>0.00</td>\n",
              "      <td>0.00</td>\n",
              "      <td>0.00</td>\n",
              "      <td>0.00</td>\n",
              "      <td>0.00</td>\n",
              "      <td>1.00</td>\n",
              "      <td>0.00</td>\n",
              "      <td>0.00</td>\n",
              "      <td>0.00</td>\n",
              "      <td>0.00</td>\n",
              "      <td>0.00</td>\n",
              "      <td>1.00</td>\n",
              "      <td>0.00</td>\n",
              "      <td>0.00</td>\n",
              "      <td>0.00</td>\n",
              "      <td>0.00</td>\n",
              "      <td>0.00</td>\n",
              "      <td>0.00</td>\n",
              "      <td>1.00</td>\n",
              "      <td>0.00</td>\n",
              "      <td>0.00</td>\n",
              "      <td>1.00</td>\n",
              "      <td>0.00</td>\n",
              "      <td>0.00</td>\n",
              "      <td>0.00</td>\n",
              "      <td>1.00</td>\n",
              "      <td>0.00</td>\n",
              "      <td>1.00</td>\n",
              "      <td>0.00</td>\n",
              "      <td>0.00</td>\n",
              "      <td>0.00</td>\n",
              "      <td>1.00</td>\n",
              "      <td>0.00</td>\n",
              "    </tr>\n",
              "    <tr>\n",
              "      <th>3</th>\n",
              "      <td>0.28</td>\n",
              "      <td>1.00</td>\n",
              "      <td>0.00</td>\n",
              "      <td>0.94</td>\n",
              "      <td>0.70</td>\n",
              "      <td>0.96</td>\n",
              "      <td>0.86</td>\n",
              "      <td>1.00</td>\n",
              "      <td>0.00</td>\n",
              "      <td>0.00</td>\n",
              "      <td>0.00</td>\n",
              "      <td>0.00</td>\n",
              "      <td>0.00</td>\n",
              "      <td>0.00</td>\n",
              "      <td>0.00</td>\n",
              "      <td>0.00</td>\n",
              "      <td>0.00</td>\n",
              "      <td>0.00</td>\n",
              "      <td>0.00</td>\n",
              "      <td>0.00</td>\n",
              "      <td>1.00</td>\n",
              "      <td>0.00</td>\n",
              "      <td>0.00</td>\n",
              "      <td>0.00</td>\n",
              "      <td>0.00</td>\n",
              "      <td>1.00</td>\n",
              "      <td>0.00</td>\n",
              "      <td>0.00</td>\n",
              "      <td>0.00</td>\n",
              "      <td>0.00</td>\n",
              "      <td>1.00</td>\n",
              "      <td>0.00</td>\n",
              "      <td>0.00</td>\n",
              "      <td>1.00</td>\n",
              "      <td>0.00</td>\n",
              "      <td>0.00</td>\n",
              "      <td>1.00</td>\n",
              "      <td>0.00</td>\n",
              "      <td>0.00</td>\n",
              "      <td>0.00</td>\n",
              "      <td>1.00</td>\n",
              "      <td>0.00</td>\n",
              "    </tr>\n",
              "    <tr>\n",
              "      <th>4</th>\n",
              "      <td>0.48</td>\n",
              "      <td>1.00</td>\n",
              "      <td>0.00</td>\n",
              "      <td>0.94</td>\n",
              "      <td>0.70</td>\n",
              "      <td>0.96</td>\n",
              "      <td>0.86</td>\n",
              "      <td>0.00</td>\n",
              "      <td>0.00</td>\n",
              "      <td>0.00</td>\n",
              "      <td>0.00</td>\n",
              "      <td>0.00</td>\n",
              "      <td>0.00</td>\n",
              "      <td>0.00</td>\n",
              "      <td>1.00</td>\n",
              "      <td>0.00</td>\n",
              "      <td>0.00</td>\n",
              "      <td>0.00</td>\n",
              "      <td>0.00</td>\n",
              "      <td>0.00</td>\n",
              "      <td>1.00</td>\n",
              "      <td>0.00</td>\n",
              "      <td>0.00</td>\n",
              "      <td>0.00</td>\n",
              "      <td>0.00</td>\n",
              "      <td>0.00</td>\n",
              "      <td>0.00</td>\n",
              "      <td>1.00</td>\n",
              "      <td>0.00</td>\n",
              "      <td>0.00</td>\n",
              "      <td>1.00</td>\n",
              "      <td>0.00</td>\n",
              "      <td>0.00</td>\n",
              "      <td>1.00</td>\n",
              "      <td>0.00</td>\n",
              "      <td>0.00</td>\n",
              "      <td>0.00</td>\n",
              "      <td>1.00</td>\n",
              "      <td>0.00</td>\n",
              "      <td>0.00</td>\n",
              "      <td>1.00</td>\n",
              "      <td>0.00</td>\n",
              "    </tr>\n",
              "  </tbody>\n",
              "</table>\n",
              "</div>"
            ],
            "text/plain": [
              "    0    1    2    3    4    5    6   ...   35   36   37   38   39   40   41\n",
              "0 0.48 1.00 0.00 0.94 0.70 0.96 0.86  ... 0.00 1.00 0.00 0.00 0.00 1.00 0.00\n",
              "1 0.49 1.00 0.00 0.94 0.70 0.96 0.86  ... 0.00 1.00 0.00 0.00 0.00 1.00 0.00\n",
              "2 0.25 1.00 0.00 0.94 0.70 0.96 0.86  ... 0.00 1.00 0.00 0.00 0.00 1.00 0.00\n",
              "3 0.28 1.00 0.00 0.94 0.70 0.96 0.86  ... 0.00 1.00 0.00 0.00 0.00 1.00 0.00\n",
              "4 0.48 1.00 0.00 0.94 0.70 0.96 0.86  ... 0.00 0.00 1.00 0.00 0.00 1.00 0.00\n",
              "\n",
              "[5 rows x 42 columns]"
            ]
          },
          "metadata": {},
          "execution_count": 74
        }
      ]
    },
    {
      "cell_type": "code",
      "metadata": {
        "colab": {
          "base_uri": "https://localhost:8080/",
          "height": 241
        },
        "id": "RinccXSmv2il",
        "outputId": "f6441e25-e060-4c35-cf30-5a42fe3ed9b1"
      },
      "source": [
        "# INPUT COLUMN'S NAME AFTER TRASFORMATION\n",
        "\n",
        "# Define categorical column name\n",
        "onehot_features = list(col_transform.named_transformers_['cat_col'].named_steps['onehot'].get_feature_names(cat_features))\n",
        "\n",
        "# Combine categorical and numerical columns name\n",
        "columns_name = num_features + onehot_features\n",
        "\n",
        "# Put columns name to dataframe\n",
        "data.columns = columns_name\n",
        "data.head()"
      ],
      "execution_count": null,
      "outputs": [
        {
          "output_type": "execute_result",
          "data": {
            "text/html": [
              "<div>\n",
              "<style scoped>\n",
              "    .dataframe tbody tr th:only-of-type {\n",
              "        vertical-align: middle;\n",
              "    }\n",
              "\n",
              "    .dataframe tbody tr th {\n",
              "        vertical-align: top;\n",
              "    }\n",
              "\n",
              "    .dataframe thead th {\n",
              "        text-align: right;\n",
              "    }\n",
              "</style>\n",
              "<table border=\"1\" class=\"dataframe\">\n",
              "  <thead>\n",
              "    <tr style=\"text-align: right;\">\n",
              "      <th></th>\n",
              "      <th>age</th>\n",
              "      <th>pdays</th>\n",
              "      <th>previous</th>\n",
              "      <th>emp.var.rate</th>\n",
              "      <th>cons.price.idx</th>\n",
              "      <th>euribor3m</th>\n",
              "      <th>nr.employed</th>\n",
              "      <th>job_admin.</th>\n",
              "      <th>job_blue-collar</th>\n",
              "      <th>job_entrepreneur</th>\n",
              "      <th>job_housemaid</th>\n",
              "      <th>job_management</th>\n",
              "      <th>job_retired</th>\n",
              "      <th>job_self-employed</th>\n",
              "      <th>job_services</th>\n",
              "      <th>job_student</th>\n",
              "      <th>job_technician</th>\n",
              "      <th>job_unemployed</th>\n",
              "      <th>job_unknown</th>\n",
              "      <th>marital_divorced</th>\n",
              "      <th>marital_married</th>\n",
              "      <th>marital_single</th>\n",
              "      <th>marital_unknown</th>\n",
              "      <th>education_1</th>\n",
              "      <th>education_2</th>\n",
              "      <th>education_3</th>\n",
              "      <th>education_4</th>\n",
              "      <th>education_5</th>\n",
              "      <th>education_6</th>\n",
              "      <th>education_7</th>\n",
              "      <th>default_0</th>\n",
              "      <th>default_1</th>\n",
              "      <th>default_unknown</th>\n",
              "      <th>housing_0</th>\n",
              "      <th>housing_1</th>\n",
              "      <th>housing_unknown</th>\n",
              "      <th>loan_0</th>\n",
              "      <th>loan_1</th>\n",
              "      <th>loan_unknown</th>\n",
              "      <th>poutcome_failure</th>\n",
              "      <th>poutcome_nonexistent</th>\n",
              "      <th>poutcome_success</th>\n",
              "    </tr>\n",
              "  </thead>\n",
              "  <tbody>\n",
              "    <tr>\n",
              "      <th>0</th>\n",
              "      <td>0.48</td>\n",
              "      <td>1.00</td>\n",
              "      <td>0.00</td>\n",
              "      <td>0.94</td>\n",
              "      <td>0.70</td>\n",
              "      <td>0.96</td>\n",
              "      <td>0.86</td>\n",
              "      <td>0.00</td>\n",
              "      <td>0.00</td>\n",
              "      <td>0.00</td>\n",
              "      <td>1.00</td>\n",
              "      <td>0.00</td>\n",
              "      <td>0.00</td>\n",
              "      <td>0.00</td>\n",
              "      <td>0.00</td>\n",
              "      <td>0.00</td>\n",
              "      <td>0.00</td>\n",
              "      <td>0.00</td>\n",
              "      <td>0.00</td>\n",
              "      <td>0.00</td>\n",
              "      <td>1.00</td>\n",
              "      <td>0.00</td>\n",
              "      <td>0.00</td>\n",
              "      <td>0.00</td>\n",
              "      <td>1.00</td>\n",
              "      <td>0.00</td>\n",
              "      <td>0.00</td>\n",
              "      <td>0.00</td>\n",
              "      <td>0.00</td>\n",
              "      <td>0.00</td>\n",
              "      <td>1.00</td>\n",
              "      <td>0.00</td>\n",
              "      <td>0.00</td>\n",
              "      <td>1.00</td>\n",
              "      <td>0.00</td>\n",
              "      <td>0.00</td>\n",
              "      <td>1.00</td>\n",
              "      <td>0.00</td>\n",
              "      <td>0.00</td>\n",
              "      <td>0.00</td>\n",
              "      <td>1.00</td>\n",
              "      <td>0.00</td>\n",
              "    </tr>\n",
              "    <tr>\n",
              "      <th>1</th>\n",
              "      <td>0.49</td>\n",
              "      <td>1.00</td>\n",
              "      <td>0.00</td>\n",
              "      <td>0.94</td>\n",
              "      <td>0.70</td>\n",
              "      <td>0.96</td>\n",
              "      <td>0.86</td>\n",
              "      <td>0.00</td>\n",
              "      <td>0.00</td>\n",
              "      <td>0.00</td>\n",
              "      <td>0.00</td>\n",
              "      <td>0.00</td>\n",
              "      <td>0.00</td>\n",
              "      <td>0.00</td>\n",
              "      <td>1.00</td>\n",
              "      <td>0.00</td>\n",
              "      <td>0.00</td>\n",
              "      <td>0.00</td>\n",
              "      <td>0.00</td>\n",
              "      <td>0.00</td>\n",
              "      <td>1.00</td>\n",
              "      <td>0.00</td>\n",
              "      <td>0.00</td>\n",
              "      <td>0.00</td>\n",
              "      <td>0.00</td>\n",
              "      <td>0.00</td>\n",
              "      <td>0.00</td>\n",
              "      <td>1.00</td>\n",
              "      <td>0.00</td>\n",
              "      <td>0.00</td>\n",
              "      <td>0.00</td>\n",
              "      <td>0.00</td>\n",
              "      <td>1.00</td>\n",
              "      <td>1.00</td>\n",
              "      <td>0.00</td>\n",
              "      <td>0.00</td>\n",
              "      <td>1.00</td>\n",
              "      <td>0.00</td>\n",
              "      <td>0.00</td>\n",
              "      <td>0.00</td>\n",
              "      <td>1.00</td>\n",
              "      <td>0.00</td>\n",
              "    </tr>\n",
              "    <tr>\n",
              "      <th>2</th>\n",
              "      <td>0.25</td>\n",
              "      <td>1.00</td>\n",
              "      <td>0.00</td>\n",
              "      <td>0.94</td>\n",
              "      <td>0.70</td>\n",
              "      <td>0.96</td>\n",
              "      <td>0.86</td>\n",
              "      <td>0.00</td>\n",
              "      <td>0.00</td>\n",
              "      <td>0.00</td>\n",
              "      <td>0.00</td>\n",
              "      <td>0.00</td>\n",
              "      <td>0.00</td>\n",
              "      <td>0.00</td>\n",
              "      <td>1.00</td>\n",
              "      <td>0.00</td>\n",
              "      <td>0.00</td>\n",
              "      <td>0.00</td>\n",
              "      <td>0.00</td>\n",
              "      <td>0.00</td>\n",
              "      <td>1.00</td>\n",
              "      <td>0.00</td>\n",
              "      <td>0.00</td>\n",
              "      <td>0.00</td>\n",
              "      <td>0.00</td>\n",
              "      <td>0.00</td>\n",
              "      <td>0.00</td>\n",
              "      <td>1.00</td>\n",
              "      <td>0.00</td>\n",
              "      <td>0.00</td>\n",
              "      <td>1.00</td>\n",
              "      <td>0.00</td>\n",
              "      <td>0.00</td>\n",
              "      <td>0.00</td>\n",
              "      <td>1.00</td>\n",
              "      <td>0.00</td>\n",
              "      <td>1.00</td>\n",
              "      <td>0.00</td>\n",
              "      <td>0.00</td>\n",
              "      <td>0.00</td>\n",
              "      <td>1.00</td>\n",
              "      <td>0.00</td>\n",
              "    </tr>\n",
              "    <tr>\n",
              "      <th>3</th>\n",
              "      <td>0.28</td>\n",
              "      <td>1.00</td>\n",
              "      <td>0.00</td>\n",
              "      <td>0.94</td>\n",
              "      <td>0.70</td>\n",
              "      <td>0.96</td>\n",
              "      <td>0.86</td>\n",
              "      <td>1.00</td>\n",
              "      <td>0.00</td>\n",
              "      <td>0.00</td>\n",
              "      <td>0.00</td>\n",
              "      <td>0.00</td>\n",
              "      <td>0.00</td>\n",
              "      <td>0.00</td>\n",
              "      <td>0.00</td>\n",
              "      <td>0.00</td>\n",
              "      <td>0.00</td>\n",
              "      <td>0.00</td>\n",
              "      <td>0.00</td>\n",
              "      <td>0.00</td>\n",
              "      <td>1.00</td>\n",
              "      <td>0.00</td>\n",
              "      <td>0.00</td>\n",
              "      <td>0.00</td>\n",
              "      <td>0.00</td>\n",
              "      <td>1.00</td>\n",
              "      <td>0.00</td>\n",
              "      <td>0.00</td>\n",
              "      <td>0.00</td>\n",
              "      <td>0.00</td>\n",
              "      <td>1.00</td>\n",
              "      <td>0.00</td>\n",
              "      <td>0.00</td>\n",
              "      <td>1.00</td>\n",
              "      <td>0.00</td>\n",
              "      <td>0.00</td>\n",
              "      <td>1.00</td>\n",
              "      <td>0.00</td>\n",
              "      <td>0.00</td>\n",
              "      <td>0.00</td>\n",
              "      <td>1.00</td>\n",
              "      <td>0.00</td>\n",
              "    </tr>\n",
              "    <tr>\n",
              "      <th>4</th>\n",
              "      <td>0.48</td>\n",
              "      <td>1.00</td>\n",
              "      <td>0.00</td>\n",
              "      <td>0.94</td>\n",
              "      <td>0.70</td>\n",
              "      <td>0.96</td>\n",
              "      <td>0.86</td>\n",
              "      <td>0.00</td>\n",
              "      <td>0.00</td>\n",
              "      <td>0.00</td>\n",
              "      <td>0.00</td>\n",
              "      <td>0.00</td>\n",
              "      <td>0.00</td>\n",
              "      <td>0.00</td>\n",
              "      <td>1.00</td>\n",
              "      <td>0.00</td>\n",
              "      <td>0.00</td>\n",
              "      <td>0.00</td>\n",
              "      <td>0.00</td>\n",
              "      <td>0.00</td>\n",
              "      <td>1.00</td>\n",
              "      <td>0.00</td>\n",
              "      <td>0.00</td>\n",
              "      <td>0.00</td>\n",
              "      <td>0.00</td>\n",
              "      <td>0.00</td>\n",
              "      <td>0.00</td>\n",
              "      <td>1.00</td>\n",
              "      <td>0.00</td>\n",
              "      <td>0.00</td>\n",
              "      <td>1.00</td>\n",
              "      <td>0.00</td>\n",
              "      <td>0.00</td>\n",
              "      <td>1.00</td>\n",
              "      <td>0.00</td>\n",
              "      <td>0.00</td>\n",
              "      <td>0.00</td>\n",
              "      <td>1.00</td>\n",
              "      <td>0.00</td>\n",
              "      <td>0.00</td>\n",
              "      <td>1.00</td>\n",
              "      <td>0.00</td>\n",
              "    </tr>\n",
              "  </tbody>\n",
              "</table>\n",
              "</div>"
            ],
            "text/plain": [
              "   age  pdays  ...  poutcome_nonexistent  poutcome_success\n",
              "0 0.48   1.00  ...                  1.00              0.00\n",
              "1 0.49   1.00  ...                  1.00              0.00\n",
              "2 0.25   1.00  ...                  1.00              0.00\n",
              "3 0.28   1.00  ...                  1.00              0.00\n",
              "4 0.48   1.00  ...                  1.00              0.00\n",
              "\n",
              "[5 rows x 42 columns]"
            ]
          },
          "metadata": {},
          "execution_count": 75
        }
      ]
    },
    {
      "cell_type": "markdown",
      "metadata": {
        "id": "lQZpy5hROKjF"
      },
      "source": [
        "# **TRAINING MODEL**"
      ]
    },
    {
      "cell_type": "code",
      "metadata": {
        "id": "OSg1PaUIWJxr"
      },
      "source": [
        "from sklearn.model_selection import KFold\n",
        "from sklearn.model_selection import cross_val_score\n",
        "\n",
        "# Classifier Metrics \n",
        "from sklearn import metrics\n",
        "from sklearn.metrics import confusion_matrix, classification_report\n",
        "from sklearn.metrics import accuracy_score, precision_score, recall_score, f1_score, log_loss\n",
        "from sklearn.metrics import auc, roc_curve, roc_auc_score, precision_recall_curve\n",
        "from sklearn.metrics import fbeta_score, cohen_kappa_score\n",
        "\n",
        "k_fold = KFold(n_splits=10, shuffle=True, random_state=0)"
      ],
      "execution_count": null,
      "outputs": []
    },
    {
      "cell_type": "code",
      "metadata": {
        "id": "f7iBwW6cOPyI"
      },
      "source": [
        "X_train = col_transform.fit_transform(X_train)\n",
        "X_val = col_transform.transform(X_val)"
      ],
      "execution_count": null,
      "outputs": []
    },
    {
      "cell_type": "markdown",
      "metadata": {
        "id": "RtdL-RnTa1Y_"
      },
      "source": [
        "## PREPARATION FUNCTION"
      ]
    },
    {
      "cell_type": "code",
      "metadata": {
        "id": "jEtRGD1ca3Wh"
      },
      "source": [
        "def matrix_plot(matrix, font_size):\n",
        "  conf_matrix_df = pd.DataFrame(matrix)\n",
        "\n",
        "  conf_matrix_df.index.name = 'Actual'\n",
        "  conf_matrix_df.columns.name = 'Predicted'\n",
        "  target_names = ['No', 'Yes']\n",
        "\n",
        "  plt.figure(figsize = (10,7))\n",
        "  sns.set(font_scale=font_size/9)#for label size\n",
        "  sns.heatmap(conf_matrix_df/np.sum(conf_matrix_df), cmap=\"Greens\", annot=True,annot_kws={\"size\": font_size}, fmt='.2%', xticklabels=target_names, yticklabels=target_names)"
      ],
      "execution_count": null,
      "outputs": []
    },
    {
      "cell_type": "code",
      "metadata": {
        "id": "LBNdyRbgImCK"
      },
      "source": [
        "#define a function to perform a grid search on the LGBM model\n",
        "def randSearch(rand_Params, model):\n",
        "    \"\"\"Perform grid search on LGBM\"\"\"\n",
        "    \n",
        "    # Create the grid\n",
        "    kfold = StratifiedKFold(n_splits=5)\n",
        "    scoring = {'AUC': 'roc_auc'}\n",
        "    rand = RandomizedSearchCV(model, rand_Params,verbose=0,cv=kfold,scoring = scoring , n_jobs=-1, refit='AUC')\n",
        "\n",
        "    # Run the grid\n",
        "    rand.fit(X_train, y_train ,verbose=0, \n",
        "                eval_set=[(X_val, y_val)], \n",
        "                eval_metric= 'auc')\n",
        "\n",
        "    # Print the best parameters found\n",
        "    print(rand.best_params_)\n",
        "    print(rand.best_score_)"
      ],
      "execution_count": null,
      "outputs": []
    },
    {
      "cell_type": "code",
      "metadata": {
        "id": "9oLG96IJx_aY"
      },
      "source": [
        "def proba_result(model, proba):\n",
        "  y_pred = model.predict_proba(X_val)\n",
        "  y_predict = (y_pred[:,1] >= proba).astype(int)\n",
        "\n",
        "  # CLASSIFICATION REPORT\n",
        "  print(classification_report(y_val, y_predict))\n",
        "\n",
        "  # CONFUSION MATRIX PLOT\n",
        "  matrix = confusion_matrix(y_val, y_predict)\n",
        "  matrix_plot(matrix, 12)\n",
        "\n",
        "  return np.diag(matrix)"
      ],
      "execution_count": null,
      "outputs": []
    },
    {
      "cell_type": "code",
      "metadata": {
        "id": "LxePPXjHy-zA"
      },
      "source": [
        "def proba_result_test(model, proba, X_test, y_test):\n",
        "  X_test = col_transform.transform(X_test)\n",
        "  y_pred = model.predict_proba(X_test)\n",
        "  y_predict = (y_pred[:,1] >= proba).astype(int)\n",
        "\n",
        "  # CLASSIFICATION REPORT\n",
        "  print(classification_report(y_test, y_predict))\n",
        "\n",
        "  # CONFUSION MATRIX PLOT\n",
        "  matrix = confusion_matrix(y_test, y_predict)\n",
        "  matrix_plot(matrix, 12)\n",
        "\n",
        "  return np.diag(matrix)"
      ],
      "execution_count": null,
      "outputs": []
    },
    {
      "cell_type": "markdown",
      "metadata": {
        "id": "1xPcaUB1MvvW"
      },
      "source": [
        "## LOGISTIC REGRESSION"
      ]
    },
    {
      "cell_type": "code",
      "metadata": {
        "id": "m2fXAuCHMvJ3"
      },
      "source": [
        "from sklearn.linear_model import LogisticRegression\n",
        "\n",
        "logmodel = LogisticRegression() \n",
        "logmodel.fit(X_train,y_train)\n",
        "logpred = logmodel.predict(X_val)\n",
        "\n",
        "# Save logistic model cross validation score\n",
        "LOGCV = (cross_val_score(logmodel, X_train, y_train, cv=k_fold, n_jobs=1, scoring = 'accuracy').mean())"
      ],
      "execution_count": null,
      "outputs": []
    },
    {
      "cell_type": "code",
      "metadata": {
        "colab": {
          "base_uri": "https://localhost:8080/",
          "height": 611
        },
        "id": "kYr_3GhSWuQ0",
        "outputId": "da6a275b-4ff2-4337-84d1-42f68bb4f745"
      },
      "source": [
        "# CLASSIFICATION REPORT\n",
        "print(classification_report(y_val, logpred))\n",
        "\n",
        "# CONFUSION MATRIX PLOT\n",
        "matrix = confusion_matrix(y_val, logpred)\n",
        "matrix_plot(matrix, 12)\n",
        "\n",
        "logtrue_pos= np.diag(matrix)[1]"
      ],
      "execution_count": null,
      "outputs": [
        {
          "output_type": "stream",
          "name": "stdout",
          "text": [
            "              precision    recall  f1-score   support\n",
            "\n",
            "           0       0.91      0.99      0.95      6580\n",
            "           1       0.71      0.18      0.29       834\n",
            "\n",
            "    accuracy                           0.90      7414\n",
            "   macro avg       0.81      0.59      0.62      7414\n",
            "weighted avg       0.88      0.90      0.87      7414\n",
            "\n"
          ]
        },
        {
          "output_type": "display_data",
          "data": {
            "image/png": "[encoded data removed]",
            "text/plain": [
              "<Figure size 720x504 with 2 Axes>"
            ]
          },
          "metadata": {}
        }
      ]
    },
    {
      "cell_type": "markdown",
      "metadata": {
        "id": "vsuKVN4ibzHq"
      },
      "source": [
        "## KNN MODEL"
      ]
    },
    {
      "cell_type": "code",
      "metadata": {
        "id": "CJ3sEsJFb5H-"
      },
      "source": [
        "from sklearn import model_selection\n",
        "from sklearn.neighbors import KNeighborsClassifier\n",
        "\n"
      ],
      "execution_count": null,
      "outputs": []
    },
    {
      "cell_type": "code",
      "metadata": {
        "colab": {
          "base_uri": "https://localhost:8080/",
          "height": 734
        },
        "id": "ZjvR_aPGbo3P",
        "outputId": "4c2c8d6b-c77d-4fd9-a3cd-cf0138cd0e51"
      },
      "source": [
        "# X_trainK, X_testK, y_trainK, y_testK = train_test_split(X, y, test_size = 0.2, \n",
        "#                                                         shuffle=True,\n",
        "#                                                         stratify=pd.concat([X[\"age_group\"], y], axis=1), \n",
        "#                                                         random_state = 42)\n",
        "\n",
        "#Neighbors\n",
        "neighbors = np.arange(0,25)\n",
        "\n",
        "#Create empty list that will hold cv scores\n",
        "cv_scores = []\n",
        "\n",
        "#Perform 10-fold cross validation on training set for odd values of k:\n",
        "for k in neighbors:\n",
        "    k_value = k+1\n",
        "    knn = KNeighborsClassifier(n_neighbors = k_value, weights='uniform', p=2, metric='euclidean')\n",
        "    kfold = model_selection.KFold(n_splits=10, random_state=123)\n",
        "    scores = model_selection.cross_val_score(knn, X_train, y_train, cv=kfold, scoring='accuracy')\n",
        "    cv_scores.append(scores.mean()*100)\n",
        "    print(\"k=%d %0.2f (+/- %0.2f)\" % (k_value, scores.mean()*100, scores.std()*100))\n",
        "\n",
        "optimal_k = neighbors[cv_scores.index(max(cv_scores))]\n",
        "print (\"The optimal number of neighbors is %d with %0.1f%%\" % (optimal_k, cv_scores[optimal_k]))\n",
        "\n",
        "plt.plot(neighbors, cv_scores)\n",
        "plt.xlabel('Number of Neighbors K')\n",
        "plt.ylabel('Train Accuracy')\n",
        "plt.show()"
      ],
      "execution_count": null,
      "outputs": [
        {
          "output_type": "stream",
          "name": "stdout",
          "text": [
            "k=1 84.44 (+/- 0.46)\n",
            "k=2 88.71 (+/- 0.35)\n",
            "k=3 88.06 (+/- 0.32)\n",
            "k=4 89.20 (+/- 0.31)\n",
            "k=5 89.00 (+/- 0.38)\n",
            "k=6 89.44 (+/- 0.35)\n",
            "k=7 89.28 (+/- 0.46)\n",
            "k=8 89.39 (+/- 0.37)\n",
            "k=9 89.30 (+/- 0.38)\n",
            "k=10 89.50 (+/- 0.38)\n",
            "k=11 89.37 (+/- 0.38)\n",
            "k=12 89.57 (+/- 0.37)\n",
            "k=13 89.51 (+/- 0.46)\n",
            "k=14 89.57 (+/- 0.41)\n",
            "k=15 89.51 (+/- 0.44)\n",
            "k=16 89.61 (+/- 0.38)\n",
            "k=17 89.56 (+/- 0.46)\n",
            "k=18 89.60 (+/- 0.38)\n",
            "k=19 89.58 (+/- 0.39)\n",
            "k=20 89.66 (+/- 0.40)\n",
            "k=21 89.63 (+/- 0.42)\n",
            "k=22 89.66 (+/- 0.39)\n",
            "k=23 89.59 (+/- 0.43)\n",
            "k=24 89.65 (+/- 0.47)\n",
            "k=25 89.60 (+/- 0.46)\n",
            "The optimal number of neighbors is 19 with 89.7%\n"
          ]
        },
        {
          "output_type": "display_data",
          "data": {
            "image/png": "[encoded data removed]",
            "text/plain": [
              "<Figure size 432x288 with 1 Axes>"
            ]
          },
          "metadata": {}
        }
      ]
    },
    {
      "cell_type": "code",
      "metadata": {
        "id": "Fc2l-F9UXpoK"
      },
      "source": [
        "knn = KNeighborsClassifier(n_neighbors=optimal_k)\n",
        "knn.fit(X_train, y_train)\n",
        "knnpred = knn.predict(X_val)\n",
        "\n",
        "KNNCV = (cross_val_score(knn, X_train, y_train, cv=k_fold, n_jobs=1, scoring = 'accuracy').mean())"
      ],
      "execution_count": null,
      "outputs": []
    },
    {
      "cell_type": "code",
      "metadata": {
        "colab": {
          "base_uri": "https://localhost:8080/",
          "height": 612
        },
        "id": "oVv_l0KWh5e3",
        "outputId": "f4d59436-bf95-443a-db56-a43d292886c1"
      },
      "source": [
        "# CLASSIFICATION REPORT\n",
        "print(classification_report(y_val, knnpred))\n",
        "\n",
        "# CONFUSION MATRIX PLOT\n",
        "matrix = confusion_matrix(y_val, knnpred)\n",
        "matrix_plot(matrix, 12)\n",
        "\n",
        "knntrue_pos= np.diag(matrix)[1]"
      ],
      "execution_count": null,
      "outputs": [
        {
          "output_type": "stream",
          "name": "stdout",
          "text": [
            "              precision    recall  f1-score   support\n",
            "\n",
            "           0       0.90      0.99      0.94      6580\n",
            "           1       0.66      0.18      0.28       834\n",
            "\n",
            "    accuracy                           0.90      7414\n",
            "   macro avg       0.78      0.58      0.61      7414\n",
            "weighted avg       0.88      0.90      0.87      7414\n",
            "\n"
          ]
        },
        {
          "output_type": "display_data",
          "data": {
            "image/png": "[encoded data removed]",
            "text/plain": [
              "<Figure size 720x504 with 2 Axes>"
            ]
          },
          "metadata": {}
        }
      ]
    },
    {
      "cell_type": "markdown",
      "metadata": {
        "id": "cPLjnh72mQ25"
      },
      "source": [
        "## RANDOM FOREST"
      ]
    },
    {
      "cell_type": "code",
      "metadata": {
        "id": "NE14iOKkmUC7"
      },
      "source": [
        "from sklearn.ensemble import RandomForestClassifier\n",
        "\n",
        "rfc = RandomForestClassifier(n_estimators = 200)#criterion = entopy,gini\n",
        "rfc.fit(X_train, y_train)\n",
        "rfcpred = rfc.predict(X_val)\n",
        "\n",
        "RFCCV = (cross_val_score(rfc, X_train, y_train, cv=k_fold, n_jobs=1, scoring = 'accuracy').mean())"
      ],
      "execution_count": null,
      "outputs": []
    },
    {
      "cell_type": "code",
      "metadata": {
        "colab": {
          "base_uri": "https://localhost:8080/",
          "height": 608
        },
        "id": "GZwhWxNJmjGT",
        "outputId": "64b71a0b-8894-4900-acb4-7a1e1e46a941"
      },
      "source": [
        "# CLASSIFICATION REPORT\n",
        "print(classification_report(y_val, rfcpred))\n",
        "\n",
        "# CONFUSION MATRIX PLOT\n",
        "matrix = confusion_matrix(y_val, rfcpred)\n",
        "matrix_plot(matrix, 12)\n",
        "\n",
        "rfctrue_pos= np.diag(matrix)[1]"
      ],
      "execution_count": null,
      "outputs": [
        {
          "output_type": "stream",
          "name": "stdout",
          "text": [
            "              precision    recall  f1-score   support\n",
            "\n",
            "           0       0.91      0.96      0.94      6580\n",
            "           1       0.47      0.29      0.36       834\n",
            "\n",
            "    accuracy                           0.88      7414\n",
            "   macro avg       0.69      0.62      0.65      7414\n",
            "weighted avg       0.86      0.88      0.87      7414\n",
            "\n"
          ]
        },
        {
          "output_type": "display_data",
          "data": {
            "image/png": "[encoded data removed]",
            "text/plain": [
              "<Figure size 720x504 with 2 Axes>"
            ]
          },
          "metadata": {}
        }
      ]
    },
    {
      "cell_type": "markdown",
      "metadata": {
        "id": "_yxiHs6gm88E"
      },
      "source": [
        "##SVM MODEL"
      ]
    },
    {
      "cell_type": "code",
      "metadata": {
        "id": "qawNsgScm_kH"
      },
      "source": [
        "from sklearn.svm import SVC\n",
        "svc= SVC(kernel = 'sigmoid')\n",
        "svc.fit(X_train, y_train)\n",
        "svcpred = svc.predict(X_val)\n",
        "\n",
        "SVCCV = (cross_val_score(svc, X_train, y_train, cv=k_fold, n_jobs=1, scoring = 'accuracy').mean())"
      ],
      "execution_count": null,
      "outputs": []
    },
    {
      "cell_type": "code",
      "metadata": {
        "colab": {
          "base_uri": "https://localhost:8080/",
          "height": 612
        },
        "id": "YBFc8uzenK4z",
        "outputId": "de16b6cb-5a6b-4c03-ad77-8144cfdd750b"
      },
      "source": [
        "# CLASSIFICATION REPORT\n",
        "print(classification_report(y_val, svcpred))\n",
        "\n",
        "# CONFUSION MATRIX PLOT\n",
        "matrix = confusion_matrix(y_val, svcpred)\n",
        "matrix_plot(matrix, 12)\n",
        "\n",
        "svctrue_pos= np.diag(matrix)[1]"
      ],
      "execution_count": null,
      "outputs": [
        {
          "output_type": "stream",
          "name": "stdout",
          "text": [
            "              precision    recall  f1-score   support\n",
            "\n",
            "           0       0.90      0.91      0.91      6580\n",
            "           1       0.26      0.24      0.25       834\n",
            "\n",
            "    accuracy                           0.84      7414\n",
            "   macro avg       0.58      0.58      0.58      7414\n",
            "weighted avg       0.83      0.84      0.83      7414\n",
            "\n"
          ]
        },
        {
          "output_type": "display_data",
          "data": {
            "image/png": "[encoded data removed]",
            "text/plain": [
              "<Figure size 720x504 with 2 Axes>"
            ]
          },
          "metadata": {}
        }
      ]
    },
    {
      "cell_type": "markdown",
      "metadata": {
        "id": "2bDB5a-KniEp"
      },
      "source": [
        "## XG BOOST"
      ]
    },
    {
      "cell_type": "code",
      "metadata": {
        "id": "8JgONzoine10"
      },
      "source": [
        "from xgboost import XGBClassifier\n",
        "xgb = XGBClassifier()\n",
        "xgb.fit(X_train, y_train)\n",
        "xgbprd = xgb.predict(X_val)\n",
        "\n",
        "XGB = (cross_val_score(estimator = xgb, X = X_train, y = y_train, cv = 10).mean())"
      ],
      "execution_count": null,
      "outputs": []
    },
    {
      "cell_type": "code",
      "metadata": {
        "colab": {
          "base_uri": "https://localhost:8080/",
          "height": 627
        },
        "id": "JxHOZ3M2ntbi",
        "outputId": "2de7bbaf-01a0-41ae-f9a7-b7b03ead59b5"
      },
      "source": [
        "# CLASSIFICATION REPORT\n",
        "print(classification_report(y_val, xgbprd))\n",
        "\n",
        "# CONFUSION MATRIX PLOT\n",
        "matrix = confusion_matrix(y_val, xgbprd)\n",
        "matrix_plot(matrix, 12)\n",
        "\n",
        "xgbtrue_pos= np.diag(matrix)[1]\n",
        "np.diag(matrix)"
      ],
      "execution_count": null,
      "outputs": [
        {
          "output_type": "stream",
          "name": "stdout",
          "text": [
            "              precision    recall  f1-score   support\n",
            "\n",
            "           0       0.91      0.99      0.95      6580\n",
            "           1       0.70      0.21      0.33       834\n",
            "\n",
            "    accuracy                           0.90      7414\n",
            "   macro avg       0.80      0.60      0.64      7414\n",
            "weighted avg       0.88      0.90      0.88      7414\n",
            "\n"
          ]
        },
        {
          "output_type": "execute_result",
          "data": {
            "text/plain": [
              "array([6503,  179])"
            ]
          },
          "metadata": {},
          "execution_count": 144
        },
        {
          "output_type": "display_data",
          "data": {
            "image/png": "[encoded data removed]",
            "text/plain": [
              "<Figure size 720x504 with 2 Axes>"
            ]
          },
          "metadata": {}
        }
      ]
    },
    {
      "cell_type": "markdown",
      "metadata": {
        "id": "i0UrRJYto-xb"
      },
      "source": [
        "## GRADIENT BOOSTING"
      ]
    },
    {
      "cell_type": "code",
      "metadata": {
        "id": "-wDxleu2pBw2"
      },
      "source": [
        "from sklearn.ensemble import GradientBoostingClassifier\n",
        "gbk = GradientBoostingClassifier()\n",
        "gbk.fit(X_train, y_train)\n",
        "gbkpred = gbk.predict(X_val)\n",
        "\n",
        "GBKCV = (cross_val_score(gbk, X_train, y_train, cv=k_fold, n_jobs=1, scoring = 'accuracy').mean())"
      ],
      "execution_count": null,
      "outputs": []
    },
    {
      "cell_type": "code",
      "metadata": {
        "colab": {
          "base_uri": "https://localhost:8080/",
          "height": 207
        },
        "id": "tZ7ZhSQJpFz-",
        "outputId": "82188f32-e1b1-4f1b-8b60-2cdbe220bf6b"
      },
      "source": [
        "# CLASSIFICATION REPORT\n",
        "print(classification_report(y_val, gbkpred))\n",
        "\n",
        "# CONFUSION MATRIX PLOT\n",
        "matrix = confusion_matrix(y_val, gbkpred)\n",
        "matrix_plot(matrix, 12)\n",
        "\n",
        "gbktrue_pos = np.diag(matrix)[1]"
      ],
      "execution_count": null,
      "outputs": [
        {
          "output_type": "stream",
          "name": "stdout",
          "text": [
            "              precision    recall  f1-score   support\n",
            "\n",
            "           0       0.91      0.99      0.95      6580\n",
            "           1       0.69      0.22      0.33       834\n",
            "\n",
            "    accuracy                           0.90      7414\n",
            "   macro avg       0.80      0.60      0.64      7414\n",
            "weighted avg       0.88      0.90      0.88      7414\n",
            "\n"
          ]
        },
        {
          "output_type": "display_data",
          "data": {
            "image/png": "[encoded data removed]",
            "text/plain": [
              "<Figure size 720x504 with 2 Axes>"
            ]
          },
          "metadata": {}
        }
      ]
    },
    {
      "cell_type": "markdown",
      "metadata": {
        "id": "8Rqe1g-UpeH8"
      },
      "source": [
        "## LIGHT GBM"
      ]
    },
    {
      "cell_type": "code",
      "metadata": {
        "id": "tl1ao6mOpggg"
      },
      "source": [
        "import lightgbm as lgb\n",
        "lgbm = lgb.LGBMClassifier()\n",
        "lgbm.fit(X_train, y_train)\n",
        "lgbmpred = lgbm.predict(X_val)\n",
        "\n",
        "LGBMCV = (cross_val_score(lgbm, X_train, y_train, cv=k_fold, n_jobs=1, scoring = 'accuracy').mean())"
      ],
      "execution_count": null,
      "outputs": []
    },
    {
      "cell_type": "code",
      "metadata": {
        "id": "v0WSPRmxp4DB",
        "colab": {
          "base_uri": "https://localhost:8080/",
          "height": 609
        },
        "outputId": "38c773e4-8afc-4100-806e-79d58819c071"
      },
      "source": [
        "# CLASSIFICATION REPORT\n",
        "print(classification_report(y_val, lgbmpred))\n",
        "\n",
        "# CONFUSION MATRIX PLOT\n",
        "matrix = confusion_matrix(y_val, lgbmpred)\n",
        "matrix_plot(matrix, 12)\n",
        "\n",
        "lgbmtrue_pos= np.diag(matrix)[1]"
      ],
      "execution_count": null,
      "outputs": [
        {
          "output_type": "stream",
          "name": "stdout",
          "text": [
            "              precision    recall  f1-score   support\n",
            "\n",
            "           0       0.91      0.99      0.95      6580\n",
            "           1       0.66      0.23      0.34       834\n",
            "\n",
            "    accuracy                           0.90      7414\n",
            "   macro avg       0.79      0.61      0.64      7414\n",
            "weighted avg       0.88      0.90      0.88      7414\n",
            "\n"
          ]
        },
        {
          "output_type": "display_data",
          "data": {
            "image/png": "[encoded data removed]",
            "text/plain": [
              "<Figure size 720x504 with 2 Axes>"
            ]
          },
          "metadata": {}
        }
      ]
    },
    {
      "cell_type": "markdown",
      "metadata": {
        "id": "z7Bi4eC0Fnjx"
      },
      "source": [
        "## RESULTS"
      ]
    },
    {
      "cell_type": "code",
      "metadata": {
        "colab": {
          "base_uri": "https://localhost:8080/",
          "height": 266
        },
        "id": "amu1UxYtFmlC",
        "outputId": "86eacb6d-673c-4f36-95f4-5458df11a2dd"
      },
      "source": [
        "models = pd.DataFrame({\n",
        "                'Models': ['Logistic Model', 'K-Near Neighbors', 'Random Forest Classifier', 'Support Vector Machine',\n",
        "                           'XGBoost', 'Gradient Boosting', 'LIGHT GBM'],\n",
        "                'Score':  [LOGCV, KNNCV, RFCCV, SVCCV, XGB, GBKCV, LGBMCV],\n",
        "                'TP_Count': [logtrue_pos, knntrue_pos, rfctrue_pos, svctrue_pos, xgbtrue_pos, gbktrue_pos, lgbmtrue_pos]})\n",
        "\n",
        "models.sort_values(by='TP_Count', ascending=False)"
      ],
      "execution_count": null,
      "outputs": [
        {
          "output_type": "execute_result",
          "data": {
            "text/html": [
              "<div>\n",
              "<style scoped>\n",
              "    .dataframe tbody tr th:only-of-type {\n",
              "        vertical-align: middle;\n",
              "    }\n",
              "\n",
              "    .dataframe tbody tr th {\n",
              "        vertical-align: top;\n",
              "    }\n",
              "\n",
              "    .dataframe thead th {\n",
              "        text-align: right;\n",
              "    }\n",
              "</style>\n",
              "<table border=\"1\" class=\"dataframe\">\n",
              "  <thead>\n",
              "    <tr style=\"text-align: right;\">\n",
              "      <th></th>\n",
              "      <th>Models</th>\n",
              "      <th>Score</th>\n",
              "      <th>TP_Count</th>\n",
              "    </tr>\n",
              "  </thead>\n",
              "  <tbody>\n",
              "    <tr>\n",
              "      <th>2</th>\n",
              "      <td>Random Forest Classifier</td>\n",
              "      <td>0.88</td>\n",
              "      <td>243</td>\n",
              "    </tr>\n",
              "    <tr>\n",
              "      <th>3</th>\n",
              "      <td>Support Vector Machine</td>\n",
              "      <td>0.83</td>\n",
              "      <td>204</td>\n",
              "    </tr>\n",
              "    <tr>\n",
              "      <th>6</th>\n",
              "      <td>LIGHT GBM</td>\n",
              "      <td>0.90</td>\n",
              "      <td>191</td>\n",
              "    </tr>\n",
              "    <tr>\n",
              "      <th>5</th>\n",
              "      <td>Gradient Boosting</td>\n",
              "      <td>0.90</td>\n",
              "      <td>180</td>\n",
              "    </tr>\n",
              "    <tr>\n",
              "      <th>4</th>\n",
              "      <td>XGBoost</td>\n",
              "      <td>0.90</td>\n",
              "      <td>179</td>\n",
              "    </tr>\n",
              "    <tr>\n",
              "      <th>0</th>\n",
              "      <td>Logistic Model</td>\n",
              "      <td>0.90</td>\n",
              "      <td>154</td>\n",
              "    </tr>\n",
              "    <tr>\n",
              "      <th>1</th>\n",
              "      <td>K-Near Neighbors</td>\n",
              "      <td>0.90</td>\n",
              "      <td>149</td>\n",
              "    </tr>\n",
              "  </tbody>\n",
              "</table>\n",
              "</div>"
            ],
            "text/plain": [
              "                     Models  Score  TP_Count\n",
              "2  Random Forest Classifier   0.88       243\n",
              "3    Support Vector Machine   0.83       204\n",
              "6                 LIGHT GBM   0.90       191\n",
              "5         Gradient Boosting   0.90       180\n",
              "4                   XGBoost   0.90       179\n",
              "0            Logistic Model   0.90       154\n",
              "1          K-Near Neighbors   0.90       149"
            ]
          },
          "metadata": {},
          "execution_count": 151
        }
      ]
    },
    {
      "cell_type": "markdown",
      "metadata": {
        "id": "SIPI7aZfuU0r"
      },
      "source": [
        "Accuracy is measured by the area under the ROC curve. An area of 1 represents a perfect test; an area of .5 represents a worthless test.\n",
        "\n",
        "A rough guide for classifying the accuracy of a diagnostic test is the traditional academic point system:\n",
        "\n",
        ".90-1 = excellent (A)\n",
        "\n",
        ".80-.90 = good (B)\n",
        "\n",
        ".70-.80 = fair (C)\n",
        "\n",
        ".60-.70 = poor (D)\n",
        "\n",
        ".50-.60 = fail (F)"
      ]
    },
    {
      "cell_type": "code",
      "metadata": {
        "colab": {
          "base_uri": "https://localhost:8080/",
          "height": 1000
        },
        "id": "U6AFc1-pqgRj",
        "outputId": "af647fc8-721b-463e-b32a-f42c5dfb464f"
      },
      "source": [
        "fig, ax_arr = plt.subplots(nrows = 2, ncols = 3, figsize = (20,15))\n",
        "\n",
        "# LOGISTIC\n",
        "probs = logmodel.predict_proba(X_val)\n",
        "preds = probs[:,1]\n",
        "fprlog, tprlog, thresholdlog = metrics.roc_curve(y_val, preds)\n",
        "roc_auclog = metrics.auc(fprlog, tprlog)\n",
        "\n",
        "ax_arr[0,0].plot(fprlog, tprlog, 'b', label = 'AUC = %0.2f' % roc_auclog)\n",
        "ax_arr[0,0].plot([0, 1], [0, 1],'r--')\n",
        "ax_arr[0,0].set_title('Receiver Operating Characteristic Logistic ',fontsize=20)\n",
        "ax_arr[0,0].set_ylabel('True Positive Rate',fontsize=20)\n",
        "ax_arr[0,0].set_xlabel('False Positive Rate',fontsize=15)\n",
        "ax_arr[0,0].legend(loc = 'lower right', prop={'size': 16})\n",
        "\n",
        "# RANDOM FOREST \n",
        "probs = rfc.predict_proba(X_val)\n",
        "preds = probs[:,1]\n",
        "fprrfc, tprrfc, thresholdrfc = metrics.roc_curve(y_val, preds)\n",
        "roc_aucrfc = metrics.auc(fprrfc, tprrfc)\n",
        "\n",
        "ax_arr[0,1].plot(fprrfc, tprrfc, 'b', label = 'AUC = %0.2f' % roc_aucrfc)\n",
        "ax_arr[0,1].plot([0, 1], [0, 1],'r--')\n",
        "ax_arr[0,1].set_title('Receiver Operating Characteristic Random Forest ',fontsize=20)\n",
        "ax_arr[0,1].set_ylabel('True Positive Rate',fontsize=20)\n",
        "ax_arr[0,1].set_xlabel('False Positive Rate',fontsize=15)\n",
        "ax_arr[0,1].legend(loc = 'lower right', prop={'size': 16})\n",
        "\n",
        "# KNN\n",
        "probs = knn.predict_proba(X_val)\n",
        "preds = probs[:,1]\n",
        "fprknn, tprknn, thresholdknn = metrics.roc_curve(y_val, preds)\n",
        "roc_aucknn = metrics.auc(fprknn, tprknn)\n",
        "\n",
        "ax_arr[1,0].plot(fprknn, tprknn, 'b', label = 'AUC = %0.2f' % roc_aucknn)\n",
        "ax_arr[1,0].plot([0, 1], [0, 1],'r--')\n",
        "ax_arr[1,0].set_title('Receiver Operating Characteristic KNN ',fontsize=20)\n",
        "ax_arr[1,0].set_ylabel('True Positive Rate',fontsize=20)\n",
        "ax_arr[1,0].set_xlabel('False Positive Rate',fontsize=15)\n",
        "ax_arr[1,0].legend(loc = 'lower right', prop={'size': 16})\n",
        "\n",
        "# XG BOOST\n",
        "probs = xgb.predict_proba(X_val)\n",
        "preds = probs[:,1]\n",
        "fprxgb, tprxgb, thresholdxgb = metrics.roc_curve(y_val, preds)\n",
        "roc_aucxgb = metrics.auc(fprxgb, tprxgb)\n",
        "\n",
        "ax_arr[0,2].plot(fprxgb, tprxgb, 'b', label = 'AUC = %0.2f' % roc_aucxgb)\n",
        "ax_arr[0,2].plot([0, 1], [0, 1],'r--')\n",
        "ax_arr[0,2].set_title('Receiver Operating Characteristic XG BOOST ',fontsize=20)\n",
        "ax_arr[0,2].set_ylabel('True Positive Rate',fontsize=20)\n",
        "ax_arr[0,2].set_xlabel('False Positive Rate',fontsize=15)\n",
        "ax_arr[0,2].legend(loc = 'lower right', prop={'size': 16})\n",
        "\n",
        "# GRADIENT BOOSTING\n",
        "probs = gbk.predict_proba(X_val)\n",
        "preds = probs[:,1]\n",
        "fprgbk, tprgbk, thresholdgbk = metrics.roc_curve(y_val, preds)\n",
        "roc_aucgbk = metrics.auc(fprgbk, tprgbk)\n",
        "\n",
        "ax_arr[1,1].plot(fprgbk, tprgbk, 'b', label = 'AUC = %0.2f' % roc_aucgbk)\n",
        "ax_arr[1,1].plot([0, 1], [0, 1],'r--')\n",
        "ax_arr[1,1].set_title('Receiver Operating Characteristic Gradient Boosting ',fontsize=20)\n",
        "ax_arr[1,1].set_ylabel('True Positive Rate',fontsize=20)\n",
        "ax_arr[1,1].set_xlabel('False Positive Rate',fontsize=15)\n",
        "ax_arr[1,1].legend(loc = 'lower right', prop={'size': 16})\n",
        "\n",
        "# LIGHT GBM\n",
        "probs = lgbm.predict_proba(X_val)\n",
        "preds = probs[:,1]\n",
        "fprlgbm, tprlgbm, thresholdlgbm = metrics.roc_curve(y_val, preds)\n",
        "roc_auclgbm = metrics.auc(fprlgbm, tprlgbm)\n",
        "\n",
        "ax_arr[1,2].plot(fprlgbm, tprlgbm, 'b', label = 'AUC = %0.2f' % roc_auclgbm)\n",
        "ax_arr[1,2].plot([0, 1], [0, 1],'r--')\n",
        "ax_arr[1,2].set_title('Receiver Operating Characteristic Light GBM ',fontsize=20)\n",
        "ax_arr[1,2].set_ylabel('True Positive Rate',fontsize=20)\n",
        "ax_arr[1,2].set_xlabel('False Positive Rate',fontsize=15)\n",
        "ax_arr[1,2].legend(loc = 'lower right', prop={'size': 16})\n",
        "\n",
        "\n",
        "plt.subplots_adjust(wspace=0.2)\n",
        "plt.tight_layout() "
      ],
      "execution_count": null,
      "outputs": [
        {
          "output_type": "display_data",
          "data": {
            "image/png": "[encoded data removed]",
            "text/plain": [
              "<Figure size 1440x1080 with 6 Axes>"
            ]
          },
          "metadata": {}
        }
      ]
    },
    {
      "cell_type": "markdown",
      "metadata": {
        "id": "M1rKSGXdI9H0"
      },
      "source": [
        "# **BEST MODEL**"
      ]
    },
    {
      "cell_type": "markdown",
      "metadata": {
        "id": "7jbgp_3-JBna"
      },
      "source": [
        "## TUNING"
      ]
    },
    {
      "cell_type": "code",
      "metadata": {
        "id": "4DO51zaKJ9hH"
      },
      "source": [
        "from sklearn.model_selection import KFold, StratifiedKFold, cross_val_score, GridSearchCV, RandomizedSearchCV"
      ],
      "execution_count": null,
      "outputs": []
    },
    {
      "cell_type": "code",
      "metadata": {
        "id": "t4oIfPS5JjJh"
      },
      "source": [
        "# Create parameters to search for num_leaves and max_depth\n",
        "randParams = {\n",
        "    'num_leaves': [15,25,35,45],\n",
        "    'max_depth': [15,20,25,30]\n",
        "    }\n",
        "\n",
        "randSearch(randParams,xgb)"
      ],
      "execution_count": null,
      "outputs": []
    },
    {
      "cell_type": "code",
      "metadata": {
        "colab": {
          "base_uri": "https://localhost:8080/"
        },
        "id": "I7mqsNQ4JEwE",
        "outputId": "b9d92c0c-63ca-4374-fea0-a9e05f1ca4ea"
      },
      "source": [
        "# Create parameters to search for learning rate and estimators\n",
        "randParams = {\n",
        "    'learning_rate': [0.01, 0.03, 0.04],\n",
        "    'n_estimators': np.arange(50,101,10).tolist(),\n",
        "    'colsample_bytree': np.linspace(0.1,1,10).tolist(),\n",
        "    'subsample': np.linspace(0.1,1,10).tolist(),\n",
        "    'num_leaves': np.arange(5,25,5).tolist(),\n",
        "    'max_depth': np.arange(5,25,5).tolist()\n",
        "    }\n",
        "\n",
        "randSearch(randParams,xgb)"
      ],
      "execution_count": null,
      "outputs": [
        {
          "output_type": "stream",
          "name": "stdout",
          "text": [
            "{'subsample': 0.7000000000000001, 'num_leaves': 10, 'n_estimators': 80, 'max_depth': 10, 'learning_rate': 0.03, 'colsample_bytree': 0.6}\n",
            "0.7977774939232758\n"
          ]
        }
      ]
    },
    {
      "cell_type": "code",
      "metadata": {
        "colab": {
          "base_uri": "https://localhost:8080/"
        },
        "id": "9_Ko3oqKlE9A",
        "outputId": "768e892c-c0bd-4c0a-c3f8-4ecb77899ef5"
      },
      "source": [
        "# Create parameters to search for learning rate and estimators\n",
        "randParams = {\n",
        "    'learning_rate': [0.01, 0.03, 0.04],\n",
        "    'n_estimators': np.arange(50,201,10).tolist(),\n",
        "    'colsample_bytree': np.linspace(0.1,1,10).tolist(),\n",
        "    'subsample': np.linspace(0.1,1,10).tolist(),\n",
        "    'num_leaves': np.arange(5,25,5).tolist(),\n",
        "    'max_depth': np.arange(5,25,5).tolist()\n",
        "    }\n",
        "\n",
        "randSearch(randParams,lgbm)"
      ],
      "execution_count": null,
      "outputs": [
        {
          "output_type": "stream",
          "name": "stdout",
          "text": [
            "{'subsample': 0.9, 'num_leaves': 20, 'n_estimators': 140, 'max_depth': 10, 'learning_rate': 0.03, 'colsample_bytree': 0.4}\n",
            "0.7983268916221904\n"
          ]
        }
      ]
    },
    {
      "cell_type": "markdown",
      "metadata": {
        "id": "xkWtmX0LlePV"
      },
      "source": [
        "##XG BOOST"
      ]
    },
    {
      "cell_type": "code",
      "metadata": {
        "colab": {
          "base_uri": "https://localhost:8080/"
        },
        "id": "_GTruvN0g8_Q",
        "outputId": "a0fecd71-5b3a-4b41-cc34-da27a34d173f"
      },
      "source": [
        "\n",
        "final_model = XGBClassifier(\n",
        "    n_estimators=10000,\n",
        "    learning_rate=0.03,\n",
        "    num_leaves=10,\n",
        "    colsample_bytree=0.6,\n",
        "    subsample=.7,\n",
        "    max_depth=10,\n",
        "    reg_alpha=0.041545473,\n",
        "    reg_lambda=0.0735294,\n",
        "    verbose=-1)\n",
        "\n",
        "history = final_model.fit(X_train, y_train , \n",
        "                eval_set=[(X_train, y_train),(X_val, y_val)], \n",
        "                eval_metric='auc', verbose=50,early_stopping_rounds= 500)"
      ],
      "execution_count": null,
      "outputs": [
        {
          "output_type": "stream",
          "name": "stdout",
          "text": [
            "[0]\tvalidation_0-auc:0.813869\tvalidation_1-auc:0.777193\n",
            "Multiple eval metrics have been passed: 'validation_1-auc' will be used for early stopping.\n",
            "\n",
            "Will train until validation_1-auc hasn't improved in 500 rounds.\n",
            "[50]\tvalidation_0-auc:0.880256\tvalidation_1-auc:0.789631\n",
            "[100]\tvalidation_0-auc:0.898254\tvalidation_1-auc:0.788703\n",
            "[150]\tvalidation_0-auc:0.912851\tvalidation_1-auc:0.787434\n",
            "[200]\tvalidation_0-auc:0.922978\tvalidation_1-auc:0.784799\n",
            "[250]\tvalidation_0-auc:0.932386\tvalidation_1-auc:0.78266\n",
            "[300]\tvalidation_0-auc:0.939936\tvalidation_1-auc:0.780949\n",
            "[350]\tvalidation_0-auc:0.947222\tvalidation_1-auc:0.778519\n",
            "[400]\tvalidation_0-auc:0.952672\tvalidation_1-auc:0.776759\n",
            "[450]\tvalidation_0-auc:0.958607\tvalidation_1-auc:0.774613\n",
            "[500]\tvalidation_0-auc:0.963365\tvalidation_1-auc:0.772785\n",
            "Stopping. Best iteration:\n",
            "[2]\tvalidation_0-auc:0.825863\tvalidation_1-auc:0.792652\n",
            "\n"
          ]
        }
      ]
    },
    {
      "cell_type": "code",
      "metadata": {
        "id": "4ZZ5mAXQOlJu"
      },
      "source": [
        "best_iteration = final_model.get_booster().best_ntree_limit\n",
        "\n",
        "y_pred = final_model.predict_proba(X_val, ntree_limit=best_iteration)\n",
        "y_predict = (y_pred[:,1] >= 0.48).astype(int)"
      ],
      "execution_count": null,
      "outputs": []
    },
    {
      "cell_type": "code",
      "metadata": {
        "colab": {
          "base_uri": "https://localhost:8080/",
          "height": 625
        },
        "id": "Ub7Kv7-LQIRW",
        "outputId": "d674c45b-bc0a-4460-8349-36cf2f00ddf7"
      },
      "source": [
        "# CLASSIFICATION REPORT\n",
        "print(classification_report(y_val, y_predict))\n",
        "\n",
        "# CONFUSION MATRIX PLOT\n",
        "matrix = confusion_matrix(y_val, y_predict)\n",
        "matrix_plot(matrix, 12)\n",
        "\n",
        "np.diag(matrix)"
      ],
      "execution_count": null,
      "outputs": [
        {
          "output_type": "stream",
          "name": "stdout",
          "text": [
            "              precision    recall  f1-score   support\n",
            "\n",
            "           0       0.94      0.93      0.93      6580\n",
            "           1       0.47      0.50      0.48       834\n",
            "\n",
            "    accuracy                           0.88      7414\n",
            "   macro avg       0.70      0.71      0.71      7414\n",
            "weighted avg       0.88      0.88      0.88      7414\n",
            "\n"
          ]
        },
        {
          "output_type": "execute_result",
          "data": {
            "text/plain": [
              "array([6109,  416])"
            ]
          },
          "metadata": {},
          "execution_count": 179
        },
        {
          "output_type": "display_data",
          "data": {
            "image/png": "[encoded data removed]",
            "text/plain": [
              "<Figure size 720x504 with 2 Axes>"
            ]
          },
          "metadata": {}
        }
      ]
    },
    {
      "cell_type": "code",
      "metadata": {
        "colab": {
          "base_uri": "https://localhost:8080/",
          "height": 625
        },
        "id": "ZWttlYcj056l",
        "outputId": "445e85e4-3d4f-43d1-c491-07588ea3dfba"
      },
      "source": [
        "proba_result_test(final_model, 0.48, X_test)"
      ],
      "execution_count": null,
      "outputs": [
        {
          "output_type": "stream",
          "name": "stdout",
          "text": [
            "              precision    recall  f1-score   support\n",
            "\n",
            "           0       0.94      0.92      0.93      3655\n",
            "           1       0.44      0.50      0.47       464\n",
            "\n",
            "    accuracy                           0.87      4119\n",
            "   macro avg       0.69      0.71      0.70      4119\n",
            "weighted avg       0.88      0.87      0.88      4119\n",
            "\n"
          ]
        },
        {
          "output_type": "execute_result",
          "data": {
            "text/plain": [
              "array([3361,  231])"
            ]
          },
          "metadata": {},
          "execution_count": 258
        },
        {
          "output_type": "display_data",
          "data": {
            "image/png": "[encoded data removed]",
            "text/plain": [
              "<Figure size 720x504 with 2 Axes>"
            ]
          },
          "metadata": {}
        }
      ]
    },
    {
      "cell_type": "markdown",
      "metadata": {
        "id": "Jk30Zi5LliUB"
      },
      "source": [
        "## LIGHT GBM"
      ]
    },
    {
      "cell_type": "code",
      "metadata": {
        "colab": {
          "base_uri": "https://localhost:8080/"
        },
        "id": "sIQDo_-klkMp",
        "outputId": "324dac51-a837-4979-ebbe-0317447bfcc6"
      },
      "source": [
        "\n",
        "light_model = lgb.LGBMClassifier(\n",
        "    n_estimators=10000,\n",
        "    learning_rate=0.03,\n",
        "    num_leaves=20,\n",
        "    colsample_bytree=0.4,\n",
        "    subsample=.9,\n",
        "    max_depth=10,\n",
        "    reg_alpha=0.041545473,\n",
        "    reg_lambda=0.0735294,\n",
        "    verbose=-1)\n",
        "\n",
        "history = light_model.fit(X_train, y_train , \n",
        "                eval_set=[(X_train, y_train),(X_val, y_val)], \n",
        "                eval_metric='auc', verbose=50,early_stopping_rounds= 500)"
      ],
      "execution_count": null,
      "outputs": [
        {
          "output_type": "stream",
          "name": "stdout",
          "text": [
            "Training until validation scores don't improve for 500 rounds.\n",
            "[50]\ttraining's auc: 0.806498\ttraining's binary_logloss: 0.276629\tvalid_1's auc: 0.795669\tvalid_1's binary_logloss: 0.278951\n",
            "[100]\ttraining's auc: 0.815866\ttraining's binary_logloss: 0.267937\tvalid_1's auc: 0.79736\tvalid_1's binary_logloss: 0.272256\n",
            "[150]\ttraining's auc: 0.821964\ttraining's binary_logloss: 0.26479\tvalid_1's auc: 0.797483\tvalid_1's binary_logloss: 0.271523\n",
            "[200]\ttraining's auc: 0.828079\ttraining's binary_logloss: 0.26235\tvalid_1's auc: 0.797822\tvalid_1's binary_logloss: 0.271383\n",
            "[250]\ttraining's auc: 0.832948\ttraining's binary_logloss: 0.260462\tvalid_1's auc: 0.798139\tvalid_1's binary_logloss: 0.271482\n",
            "[300]\ttraining's auc: 0.837171\ttraining's binary_logloss: 0.258594\tvalid_1's auc: 0.797909\tvalid_1's binary_logloss: 0.271554\n",
            "[350]\ttraining's auc: 0.840223\ttraining's binary_logloss: 0.256909\tvalid_1's auc: 0.79718\tvalid_1's binary_logloss: 0.271678\n",
            "[400]\ttraining's auc: 0.843505\ttraining's binary_logloss: 0.255298\tvalid_1's auc: 0.796459\tvalid_1's binary_logloss: 0.271828\n",
            "[450]\ttraining's auc: 0.846644\ttraining's binary_logloss: 0.253641\tvalid_1's auc: 0.796583\tvalid_1's binary_logloss: 0.271797\n",
            "[500]\ttraining's auc: 0.849538\ttraining's binary_logloss: 0.252107\tvalid_1's auc: 0.796359\tvalid_1's binary_logloss: 0.271842\n",
            "[550]\ttraining's auc: 0.852177\ttraining's binary_logloss: 0.25053\tvalid_1's auc: 0.795862\tvalid_1's binary_logloss: 0.272065\n",
            "[600]\ttraining's auc: 0.854893\ttraining's binary_logloss: 0.249105\tvalid_1's auc: 0.795178\tvalid_1's binary_logloss: 0.272318\n",
            "[650]\ttraining's auc: 0.85779\ttraining's binary_logloss: 0.247408\tvalid_1's auc: 0.795076\tvalid_1's binary_logloss: 0.272525\n",
            "Early stopping, best iteration is:\n",
            "[186]\ttraining's auc: 0.825697\ttraining's binary_logloss: 0.263072\tvalid_1's auc: 0.797883\tvalid_1's binary_logloss: 0.271356\n"
          ]
        }
      ]
    },
    {
      "cell_type": "code",
      "metadata": {
        "colab": {
          "base_uri": "https://localhost:8080/",
          "height": 625
        },
        "id": "kuNTG16KzZ7F",
        "outputId": "41e1fc2d-c430-47b5-88af-d98a5c572e94"
      },
      "source": [
        "test_X = X_test[:1000]\n",
        "test_y = y_test[:1000]\n",
        "\n",
        "proba_result_test(light_model, 0.35, test_X, test_y)"
      ],
      "execution_count": null,
      "outputs": [
        {
          "output_type": "stream",
          "name": "stdout",
          "text": [
            "              precision    recall  f1-score   support\n",
            "\n",
            "           0       0.93      0.96      0.95       886\n",
            "           1       0.61      0.47      0.53       114\n",
            "\n",
            "    accuracy                           0.91      1000\n",
            "   macro avg       0.77      0.72      0.74      1000\n",
            "weighted avg       0.90      0.91      0.90      1000\n",
            "\n"
          ]
        },
        {
          "output_type": "execute_result",
          "data": {
            "text/plain": [
              "array([852,  54])"
            ]
          },
          "metadata": {},
          "execution_count": 295
        },
        {
          "output_type": "display_data",
          "data": {
            "image/png": "[encoded data removed]",
            "text/plain": [
              "<Figure size 720x504 with 2 Axes>"
            ]
          },
          "metadata": {}
        }
      ]
    },
    {
      "cell_type": "markdown",
      "metadata": {
        "id": "TLpZ0uRotL9_"
      },
      "source": [
        "Recommended predicted dataset should be above 1000 samples for better prediction\n",
        "\n",
        "- proba = 0.72: 80% < Precision(TP+FP) > 90%, 09% < Recall(TP+FN) < 13%\n",
        "- proba = 0.60: 70% < Precision(TP+FP) < 76%, 13% < Recall(TP+FN) < 20%\n",
        "- proba = 0.35: 55% < Precision(TP+FP) < 61%, 40% < Recall(TP+FN) < 50%"
      ]
    },
    {
      "cell_type": "markdown",
      "metadata": {
        "id": "Ad7tQ5o6YP9y"
      },
      "source": [
        "# **SAVE MODEL**"
      ]
    },
    {
      "cell_type": "code",
      "metadata": {
        "colab": {
          "base_uri": "https://localhost:8080/"
        },
        "id": "7XmNneAN8F8T",
        "outputId": "c761b898-9b89-4e8a-892f-75e617f1ac9d"
      },
      "source": [
        "# !mkdir '/content/gdrive/MyDrive/Final Project/saved_model' #create folder to save model\n",
        "\n",
        "light_model.booster_.save_model('/content/gdrive/MyDrive/Final Project/saved_model/final_mode.txt')"
      ],
      "execution_count": null,
      "outputs": [
        {
          "output_type": "execute_result",
          "data": {
            "text/plain": [
              "<lightgbm.basic.Booster at 0x7ffb50468bd0>"
            ]
          },
          "metadata": {},
          "execution_count": 300
        }
      ]
    },
    {
      "cell_type": "code",
      "metadata": {
        "id": "pX-NlSdv-YTV"
      },
      "source": [
        "load_model = lgb.Booster(model_file='/content/gdrive/MyDrive/Final Project/saved_model/final_mode.txt')"
      ],
      "execution_count": null,
      "outputs": []
    },
    {
      "cell_type": "code",
      "metadata": {
        "id": "3aEv2V4C-kuV"
      },
      "source": [
        "y_pred = load_model.predict(col_transform.transform(X_test), num_iteration=load_model.best_iteration)"
      ],
      "execution_count": null,
      "outputs": []
    },
    {
      "cell_type": "markdown",
      "metadata": {
        "id": "nWHsTvcbmGsv"
      },
      "source": [
        "# **TEST MODEL**"
      ]
    },
    {
      "cell_type": "code",
      "metadata": {
        "id": "4rqVYxoZuODO"
      },
      "source": [
        "import lightgbm as lgb\n",
        "load_model = lgb.Booster(model_file='/content/gdrive/MyDrive/Final Project/saved_model/final_mode.txt')"
      ],
      "execution_count": null,
      "outputs": []
    },
    {
      "cell_type": "markdown",
      "metadata": {
        "id": "9V6_3mnSmSow"
      },
      "source": [
        "input dataset\n",
        "preprocess\n",
        "load model\n",
        "predict"
      ]
    },
    {
      "cell_type": "code",
      "metadata": {
        "id": "pbreTZJ3mF-g"
      },
      "source": [
        "def upload_data():\n",
        "  from google.colab import files\n",
        "  uploaded = files.upload()\n",
        "  keys = uploaded.keys()\n",
        "  for each in keys:\n",
        "      file_name = each\n",
        "  data = pd.read_csv(file_name)\n",
        "  return data"
      ],
      "execution_count": null,
      "outputs": []
    },
    {
      "cell_type": "code",
      "metadata": {
        "id": "o_GXZC4rp9RM"
      },
      "source": [
        "def preprocess_data(data):\n",
        "  from sklearn.pipeline import Pipeline\n",
        "  from sklearn.impute import SimpleImputer\n",
        "  from sklearn.preprocessing import MinMaxScaler\n",
        "  from sklearn.compose import ColumnTransformer\n",
        "  from sklearn.preprocessing import OneHotEncoder\n",
        "\n",
        "  num_features = list(data.select_dtypes('number').columns)\n",
        "  cat_features = list(data.select_dtypes('object').columns)\n",
        "\n",
        "  # PIPELINE FOR NUMERICAL FEATURES\n",
        "  num_pipe = Pipeline(steps=\n",
        "                      [\n",
        "                        ('impute', SimpleImputer(strategy='mean')),\n",
        "                        ('scale', MinMaxScaler())\n",
        "                      ]\n",
        "                      )\n",
        "\n",
        "  # PIPELINE FOR CATEGORICAL FEATURES\n",
        "  cat_pipe = Pipeline(steps=\n",
        "                      [\n",
        "                        ('impute', SimpleImputer(strategy ='constant')),\n",
        "                        ('onehot' , OneHotEncoder(handle_unknown='ignore',sparse=False))\n",
        "                      ]\n",
        "                      )\n",
        "                      \n",
        "  # COLUMN TRANSFORMATION\n",
        "  col_transform = ColumnTransformer(transformers=\n",
        "                                      [\n",
        "                                        ('num_col', num_pipe, num_features),\n",
        "                                        ('cat_col', cat_pipe, cat_features)                                                \n",
        "                                      ]\n",
        "                                      )\n",
        "  \n",
        "  col_transform.transform(data)\n",
        "\n",
        "  return data"
      ],
      "execution_count": null,
      "outputs": []
    },
    {
      "cell_type": "code",
      "metadata": {
        "id": "dYcxWMvGvBvO"
      },
      "source": [
        "a =pd.read_csv('/content/X_test.csv')"
      ],
      "execution_count": null,
      "outputs": []
    },
    {
      "cell_type": "code",
      "metadata": {
        "colab": {
          "base_uri": "https://localhost:8080/",
          "height": 307
        },
        "id": "fhhK9lcXvUFN",
        "outputId": "bb3db056-c89a-49e0-b7ac-34cfb314739a"
      },
      "source": [
        "preprocess_data(a)"
      ],
      "execution_count": null,
      "outputs": [
        {
          "output_type": "error",
          "ename": "NotFittedError",
          "evalue": "ignored",
          "traceback": [
            "\u001b[0;31m---------------------------------------------------------------------------\u001b[0m",
            "\u001b[0;31mNotFittedError\u001b[0m                            Traceback (most recent call last)",
            "\u001b[0;32m<ipython-input-77-c8126b116de1>\u001b[0m in \u001b[0;36m<module>\u001b[0;34m()\u001b[0m\n\u001b[0;32m----> 1\u001b[0;31m \u001b[0mpreprocess_data\u001b[0m\u001b[0;34m(\u001b[0m\u001b[0ma\u001b[0m\u001b[0;34m)\u001b[0m\u001b[0;34m\u001b[0m\u001b[0;34m\u001b[0m\u001b[0m\n\u001b[0m",
            "\u001b[0;32m<ipython-input-76-4474f8810aa7>\u001b[0m in \u001b[0;36mpreprocess_data\u001b[0;34m(data)\u001b[0m\n\u001b[1;32m     33\u001b[0m                                       )\n\u001b[1;32m     34\u001b[0m \u001b[0;34m\u001b[0m\u001b[0m\n\u001b[0;32m---> 35\u001b[0;31m   \u001b[0;32mreturn\u001b[0m \u001b[0mcol_transform\u001b[0m\u001b[0;34m.\u001b[0m\u001b[0mtransform\u001b[0m\u001b[0;34m(\u001b[0m\u001b[0mdata\u001b[0m\u001b[0;34m)\u001b[0m\u001b[0;34m\u001b[0m\u001b[0;34m\u001b[0m\u001b[0m\n\u001b[0m",
            "\u001b[0;32m/usr/local/lib/python3.7/dist-packages/sklearn/compose/_column_transformer.py\u001b[0m in \u001b[0;36mtransform\u001b[0;34m(self, X)\u001b[0m\n\u001b[1;32m    557\u001b[0m \u001b[0;34m\u001b[0m\u001b[0m\n\u001b[1;32m    558\u001b[0m         \"\"\"\n\u001b[0;32m--> 559\u001b[0;31m         \u001b[0mcheck_is_fitted\u001b[0m\u001b[0;34m(\u001b[0m\u001b[0mself\u001b[0m\u001b[0;34m)\u001b[0m\u001b[0;34m\u001b[0m\u001b[0;34m\u001b[0m\u001b[0m\n\u001b[0m\u001b[1;32m    560\u001b[0m         \u001b[0mX\u001b[0m \u001b[0;34m=\u001b[0m \u001b[0m_check_X\u001b[0m\u001b[0;34m(\u001b[0m\u001b[0mX\u001b[0m\u001b[0;34m)\u001b[0m\u001b[0;34m\u001b[0m\u001b[0;34m\u001b[0m\u001b[0m\n\u001b[1;32m    561\u001b[0m         \u001b[0;32mif\u001b[0m \u001b[0mhasattr\u001b[0m\u001b[0;34m(\u001b[0m\u001b[0mX\u001b[0m\u001b[0;34m,\u001b[0m \u001b[0;34m\"columns\"\u001b[0m\u001b[0;34m)\u001b[0m\u001b[0;34m:\u001b[0m\u001b[0;34m\u001b[0m\u001b[0;34m\u001b[0m\u001b[0m\n",
            "\u001b[0;32m/usr/local/lib/python3.7/dist-packages/sklearn/utils/validation.py\u001b[0m in \u001b[0;36mcheck_is_fitted\u001b[0;34m(estimator, attributes, msg, all_or_any)\u001b[0m\n\u001b[1;32m    965\u001b[0m \u001b[0;34m\u001b[0m\u001b[0m\n\u001b[1;32m    966\u001b[0m     \u001b[0;32mif\u001b[0m \u001b[0;32mnot\u001b[0m \u001b[0mattrs\u001b[0m\u001b[0;34m:\u001b[0m\u001b[0;34m\u001b[0m\u001b[0;34m\u001b[0m\u001b[0m\n\u001b[0;32m--> 967\u001b[0;31m         \u001b[0;32mraise\u001b[0m \u001b[0mNotFittedError\u001b[0m\u001b[0;34m(\u001b[0m\u001b[0mmsg\u001b[0m \u001b[0;34m%\u001b[0m \u001b[0;34m{\u001b[0m\u001b[0;34m'name'\u001b[0m\u001b[0;34m:\u001b[0m \u001b[0mtype\u001b[0m\u001b[0;34m(\u001b[0m\u001b[0mestimator\u001b[0m\u001b[0;34m)\u001b[0m\u001b[0;34m.\u001b[0m\u001b[0m__name__\u001b[0m\u001b[0;34m}\u001b[0m\u001b[0;34m)\u001b[0m\u001b[0;34m\u001b[0m\u001b[0;34m\u001b[0m\u001b[0m\n\u001b[0m\u001b[1;32m    968\u001b[0m \u001b[0;34m\u001b[0m\u001b[0m\n\u001b[1;32m    969\u001b[0m \u001b[0;34m\u001b[0m\u001b[0m\n",
            "\u001b[0;31mNotFittedError\u001b[0m: This ColumnTransformer instance is not fitted yet. Call 'fit' with appropriate arguments before using this estimator."
          ]
        }
      ]
    }
  ]
}