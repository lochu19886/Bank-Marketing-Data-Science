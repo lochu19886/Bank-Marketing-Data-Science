{
  "nbformat": 4,
  "nbformat_minor": 0,
  "metadata": {
    "colab": {
      "name": "BM - CLEAN DATA.ipynb",
      "provenance": []
    },
    "kernelspec": {
      "name": "python3",
      "display_name": "Python 3"
    },
    "language_info": {
      "name": "python"
    }
  },
  "cells": [
    {
      "cell_type": "markdown",
      "metadata": {
        "id": "HqAC0LbHEh9G"
      },
      "source": [
        "#**IMPORT LIBRARY & DATA**"
      ]
    },
    {
      "cell_type": "code",
      "metadata": {
        "id": "AUnNDAr3CTL0"
      },
      "source": [
        "import numpy as np                \n",
        "import pandas as pd               \n",
        "import matplotlib.pyplot as plt   \n",
        "import seaborn as sns             \n",
        "%matplotlib inline\n",
        "\n",
        "import warnings\n",
        "warnings.simplefilter(action='ignore')\n",
        "\n",
        "pd.set_option('float_format', '{:.2f}'.format)  # Show float data in two decimal number"
      ],
      "execution_count": null,
      "outputs": []
    },
    {
      "cell_type": "code",
      "metadata": {
        "colab": {
          "base_uri": "https://localhost:8080/"
        },
        "id": "bmpaqstHEgC4",
        "outputId": "d6436d42-560e-4455-f6d5-c5c95e293d45"
      },
      "source": [
        "from google.colab import drive\n",
        "drive.mount('/content/gdrive')"
      ],
      "execution_count": null,
      "outputs": [
        {
          "output_type": "stream",
          "name": "stdout",
          "text": [
            "Mounted at /content/gdrive\n"
          ]
        }
      ]
    },
    {
      "cell_type": "code",
      "metadata": {
        "id": "XHUf9oKaDzsU"
      },
      "source": [
        "raw_df = pd.read_csv('/content/gdrive/MyDrive/Final Project/bank-additional/bank-additional-full.csv', sep=';')\n",
        "raw_sample_df = pd.read_csv('/content/gdrive/MyDrive/Final Project/bank-additional/bank-additional.csv', sep=';')"
      ],
      "execution_count": null,
      "outputs": []
    },
    {
      "cell_type": "code",
      "metadata": {
        "colab": {
          "base_uri": "https://localhost:8080/",
          "height": 204
        },
        "id": "V-SwSCpuH25S",
        "outputId": "1b047292-dc1a-48b7-f187-d6ed1c562502"
      },
      "source": [
        "raw_df.head()"
      ],
      "execution_count": null,
      "outputs": [
        {
          "output_type": "execute_result",
          "data": {
            "text/html": [
              "<div>\n",
              "<style scoped>\n",
              "    .dataframe tbody tr th:only-of-type {\n",
              "        vertical-align: middle;\n",
              "    }\n",
              "\n",
              "    .dataframe tbody tr th {\n",
              "        vertical-align: top;\n",
              "    }\n",
              "\n",
              "    .dataframe thead th {\n",
              "        text-align: right;\n",
              "    }\n",
              "</style>\n",
              "<table border=\"1\" class=\"dataframe\">\n",
              "  <thead>\n",
              "    <tr style=\"text-align: right;\">\n",
              "      <th></th>\n",
              "      <th>age</th>\n",
              "      <th>job</th>\n",
              "      <th>marital</th>\n",
              "      <th>education</th>\n",
              "      <th>default</th>\n",
              "      <th>housing</th>\n",
              "      <th>loan</th>\n",
              "      <th>contact</th>\n",
              "      <th>month</th>\n",
              "      <th>day_of_week</th>\n",
              "      <th>duration</th>\n",
              "      <th>campaign</th>\n",
              "      <th>pdays</th>\n",
              "      <th>previous</th>\n",
              "      <th>poutcome</th>\n",
              "      <th>emp.var.rate</th>\n",
              "      <th>cons.price.idx</th>\n",
              "      <th>cons.conf.idx</th>\n",
              "      <th>euribor3m</th>\n",
              "      <th>nr.employed</th>\n",
              "      <th>y</th>\n",
              "    </tr>\n",
              "  </thead>\n",
              "  <tbody>\n",
              "    <tr>\n",
              "      <th>0</th>\n",
              "      <td>56</td>\n",
              "      <td>housemaid</td>\n",
              "      <td>married</td>\n",
              "      <td>basic.4y</td>\n",
              "      <td>no</td>\n",
              "      <td>no</td>\n",
              "      <td>no</td>\n",
              "      <td>telephone</td>\n",
              "      <td>may</td>\n",
              "      <td>mon</td>\n",
              "      <td>261</td>\n",
              "      <td>1</td>\n",
              "      <td>999</td>\n",
              "      <td>0</td>\n",
              "      <td>nonexistent</td>\n",
              "      <td>1.10</td>\n",
              "      <td>93.99</td>\n",
              "      <td>-36.40</td>\n",
              "      <td>4.86</td>\n",
              "      <td>5191.00</td>\n",
              "      <td>no</td>\n",
              "    </tr>\n",
              "    <tr>\n",
              "      <th>1</th>\n",
              "      <td>57</td>\n",
              "      <td>services</td>\n",
              "      <td>married</td>\n",
              "      <td>high.school</td>\n",
              "      <td>unknown</td>\n",
              "      <td>no</td>\n",
              "      <td>no</td>\n",
              "      <td>telephone</td>\n",
              "      <td>may</td>\n",
              "      <td>mon</td>\n",
              "      <td>149</td>\n",
              "      <td>1</td>\n",
              "      <td>999</td>\n",
              "      <td>0</td>\n",
              "      <td>nonexistent</td>\n",
              "      <td>1.10</td>\n",
              "      <td>93.99</td>\n",
              "      <td>-36.40</td>\n",
              "      <td>4.86</td>\n",
              "      <td>5191.00</td>\n",
              "      <td>no</td>\n",
              "    </tr>\n",
              "    <tr>\n",
              "      <th>2</th>\n",
              "      <td>37</td>\n",
              "      <td>services</td>\n",
              "      <td>married</td>\n",
              "      <td>high.school</td>\n",
              "      <td>no</td>\n",
              "      <td>yes</td>\n",
              "      <td>no</td>\n",
              "      <td>telephone</td>\n",
              "      <td>may</td>\n",
              "      <td>mon</td>\n",
              "      <td>226</td>\n",
              "      <td>1</td>\n",
              "      <td>999</td>\n",
              "      <td>0</td>\n",
              "      <td>nonexistent</td>\n",
              "      <td>1.10</td>\n",
              "      <td>93.99</td>\n",
              "      <td>-36.40</td>\n",
              "      <td>4.86</td>\n",
              "      <td>5191.00</td>\n",
              "      <td>no</td>\n",
              "    </tr>\n",
              "    <tr>\n",
              "      <th>3</th>\n",
              "      <td>40</td>\n",
              "      <td>admin.</td>\n",
              "      <td>married</td>\n",
              "      <td>basic.6y</td>\n",
              "      <td>no</td>\n",
              "      <td>no</td>\n",
              "      <td>no</td>\n",
              "      <td>telephone</td>\n",
              "      <td>may</td>\n",
              "      <td>mon</td>\n",
              "      <td>151</td>\n",
              "      <td>1</td>\n",
              "      <td>999</td>\n",
              "      <td>0</td>\n",
              "      <td>nonexistent</td>\n",
              "      <td>1.10</td>\n",
              "      <td>93.99</td>\n",
              "      <td>-36.40</td>\n",
              "      <td>4.86</td>\n",
              "      <td>5191.00</td>\n",
              "      <td>no</td>\n",
              "    </tr>\n",
              "    <tr>\n",
              "      <th>4</th>\n",
              "      <td>56</td>\n",
              "      <td>services</td>\n",
              "      <td>married</td>\n",
              "      <td>high.school</td>\n",
              "      <td>no</td>\n",
              "      <td>no</td>\n",
              "      <td>yes</td>\n",
              "      <td>telephone</td>\n",
              "      <td>may</td>\n",
              "      <td>mon</td>\n",
              "      <td>307</td>\n",
              "      <td>1</td>\n",
              "      <td>999</td>\n",
              "      <td>0</td>\n",
              "      <td>nonexistent</td>\n",
              "      <td>1.10</td>\n",
              "      <td>93.99</td>\n",
              "      <td>-36.40</td>\n",
              "      <td>4.86</td>\n",
              "      <td>5191.00</td>\n",
              "      <td>no</td>\n",
              "    </tr>\n",
              "  </tbody>\n",
              "</table>\n",
              "</div>"
            ],
            "text/plain": [
              "   age        job  marital  ... euribor3m nr.employed   y\n",
              "0   56  housemaid  married  ...      4.86     5191.00  no\n",
              "1   57   services  married  ...      4.86     5191.00  no\n",
              "2   37   services  married  ...      4.86     5191.00  no\n",
              "3   40     admin.  married  ...      4.86     5191.00  no\n",
              "4   56   services  married  ...      4.86     5191.00  no\n",
              "\n",
              "[5 rows x 21 columns]"
            ]
          },
          "metadata": {},
          "execution_count": 4
        }
      ]
    },
    {
      "cell_type": "code",
      "metadata": {
        "id": "WT19VUo-IQpX",
        "colab": {
          "base_uri": "https://localhost:8080/"
        },
        "outputId": "086bc8d6-baf1-40bb-ec95-a94582ac23a1"
      },
      "source": [
        "raw_df.info()"
      ],
      "execution_count": null,
      "outputs": [
        {
          "output_type": "stream",
          "name": "stdout",
          "text": [
            "<class 'pandas.core.frame.DataFrame'>\n",
            "RangeIndex: 41188 entries, 0 to 41187\n",
            "Data columns (total 21 columns):\n",
            " #   Column          Non-Null Count  Dtype  \n",
            "---  ------          --------------  -----  \n",
            " 0   age             41188 non-null  int64  \n",
            " 1   job             41188 non-null  object \n",
            " 2   marital         41188 non-null  object \n",
            " 3   education       41188 non-null  object \n",
            " 4   default         41188 non-null  object \n",
            " 5   housing         41188 non-null  object \n",
            " 6   loan            41188 non-null  object \n",
            " 7   contact         41188 non-null  object \n",
            " 8   month           41188 non-null  object \n",
            " 9   day_of_week     41188 non-null  object \n",
            " 10  duration        41188 non-null  int64  \n",
            " 11  campaign        41188 non-null  int64  \n",
            " 12  pdays           41188 non-null  int64  \n",
            " 13  previous        41188 non-null  int64  \n",
            " 14  poutcome        41188 non-null  object \n",
            " 15  emp.var.rate    41188 non-null  float64\n",
            " 16  cons.price.idx  41188 non-null  float64\n",
            " 17  cons.conf.idx   41188 non-null  float64\n",
            " 18  euribor3m       41188 non-null  float64\n",
            " 19  nr.employed     41188 non-null  float64\n",
            " 20  y               41188 non-null  object \n",
            "dtypes: float64(5), int64(5), object(11)\n",
            "memory usage: 6.6+ MB\n"
          ]
        }
      ]
    },
    {
      "cell_type": "markdown",
      "metadata": {
        "id": "Bwm1n3-XSqyZ"
      },
      "source": [
        "# **CLEAN DATA**"
      ]
    },
    {
      "cell_type": "markdown",
      "metadata": {
        "id": "arRElNyqL1LS"
      },
      "source": [
        "## YES/NO VALUE TO NUMERIC DATA"
      ]
    },
    {
      "cell_type": "code",
      "metadata": {
        "id": "06vr4p0UL7-e",
        "colab": {
          "base_uri": "https://localhost:8080/",
          "height": 204
        },
        "outputId": "dae89c9d-7a69-4821-c705-62e2ce862e1f"
      },
      "source": [
        "df = raw_df.applymap(lambda x: 1 if x == 'yes' else (0 if x == 'no' else x))\n",
        "df.head()"
      ],
      "execution_count": null,
      "outputs": [
        {
          "output_type": "execute_result",
          "data": {
            "text/html": [
              "<div>\n",
              "<style scoped>\n",
              "    .dataframe tbody tr th:only-of-type {\n",
              "        vertical-align: middle;\n",
              "    }\n",
              "\n",
              "    .dataframe tbody tr th {\n",
              "        vertical-align: top;\n",
              "    }\n",
              "\n",
              "    .dataframe thead th {\n",
              "        text-align: right;\n",
              "    }\n",
              "</style>\n",
              "<table border=\"1\" class=\"dataframe\">\n",
              "  <thead>\n",
              "    <tr style=\"text-align: right;\">\n",
              "      <th></th>\n",
              "      <th>age</th>\n",
              "      <th>job</th>\n",
              "      <th>marital</th>\n",
              "      <th>education</th>\n",
              "      <th>default</th>\n",
              "      <th>housing</th>\n",
              "      <th>loan</th>\n",
              "      <th>contact</th>\n",
              "      <th>month</th>\n",
              "      <th>day_of_week</th>\n",
              "      <th>duration</th>\n",
              "      <th>campaign</th>\n",
              "      <th>pdays</th>\n",
              "      <th>previous</th>\n",
              "      <th>poutcome</th>\n",
              "      <th>emp.var.rate</th>\n",
              "      <th>cons.price.idx</th>\n",
              "      <th>cons.conf.idx</th>\n",
              "      <th>euribor3m</th>\n",
              "      <th>nr.employed</th>\n",
              "      <th>y</th>\n",
              "    </tr>\n",
              "  </thead>\n",
              "  <tbody>\n",
              "    <tr>\n",
              "      <th>0</th>\n",
              "      <td>56</td>\n",
              "      <td>housemaid</td>\n",
              "      <td>married</td>\n",
              "      <td>basic.4y</td>\n",
              "      <td>0</td>\n",
              "      <td>0</td>\n",
              "      <td>0</td>\n",
              "      <td>telephone</td>\n",
              "      <td>may</td>\n",
              "      <td>mon</td>\n",
              "      <td>261</td>\n",
              "      <td>1</td>\n",
              "      <td>999</td>\n",
              "      <td>0</td>\n",
              "      <td>nonexistent</td>\n",
              "      <td>1.10</td>\n",
              "      <td>93.99</td>\n",
              "      <td>-36.40</td>\n",
              "      <td>4.86</td>\n",
              "      <td>5191.00</td>\n",
              "      <td>0</td>\n",
              "    </tr>\n",
              "    <tr>\n",
              "      <th>1</th>\n",
              "      <td>57</td>\n",
              "      <td>services</td>\n",
              "      <td>married</td>\n",
              "      <td>high.school</td>\n",
              "      <td>unknown</td>\n",
              "      <td>0</td>\n",
              "      <td>0</td>\n",
              "      <td>telephone</td>\n",
              "      <td>may</td>\n",
              "      <td>mon</td>\n",
              "      <td>149</td>\n",
              "      <td>1</td>\n",
              "      <td>999</td>\n",
              "      <td>0</td>\n",
              "      <td>nonexistent</td>\n",
              "      <td>1.10</td>\n",
              "      <td>93.99</td>\n",
              "      <td>-36.40</td>\n",
              "      <td>4.86</td>\n",
              "      <td>5191.00</td>\n",
              "      <td>0</td>\n",
              "    </tr>\n",
              "    <tr>\n",
              "      <th>2</th>\n",
              "      <td>37</td>\n",
              "      <td>services</td>\n",
              "      <td>married</td>\n",
              "      <td>high.school</td>\n",
              "      <td>0</td>\n",
              "      <td>1</td>\n",
              "      <td>0</td>\n",
              "      <td>telephone</td>\n",
              "      <td>may</td>\n",
              "      <td>mon</td>\n",
              "      <td>226</td>\n",
              "      <td>1</td>\n",
              "      <td>999</td>\n",
              "      <td>0</td>\n",
              "      <td>nonexistent</td>\n",
              "      <td>1.10</td>\n",
              "      <td>93.99</td>\n",
              "      <td>-36.40</td>\n",
              "      <td>4.86</td>\n",
              "      <td>5191.00</td>\n",
              "      <td>0</td>\n",
              "    </tr>\n",
              "    <tr>\n",
              "      <th>3</th>\n",
              "      <td>40</td>\n",
              "      <td>admin.</td>\n",
              "      <td>married</td>\n",
              "      <td>basic.6y</td>\n",
              "      <td>0</td>\n",
              "      <td>0</td>\n",
              "      <td>0</td>\n",
              "      <td>telephone</td>\n",
              "      <td>may</td>\n",
              "      <td>mon</td>\n",
              "      <td>151</td>\n",
              "      <td>1</td>\n",
              "      <td>999</td>\n",
              "      <td>0</td>\n",
              "      <td>nonexistent</td>\n",
              "      <td>1.10</td>\n",
              "      <td>93.99</td>\n",
              "      <td>-36.40</td>\n",
              "      <td>4.86</td>\n",
              "      <td>5191.00</td>\n",
              "      <td>0</td>\n",
              "    </tr>\n",
              "    <tr>\n",
              "      <th>4</th>\n",
              "      <td>56</td>\n",
              "      <td>services</td>\n",
              "      <td>married</td>\n",
              "      <td>high.school</td>\n",
              "      <td>0</td>\n",
              "      <td>0</td>\n",
              "      <td>1</td>\n",
              "      <td>telephone</td>\n",
              "      <td>may</td>\n",
              "      <td>mon</td>\n",
              "      <td>307</td>\n",
              "      <td>1</td>\n",
              "      <td>999</td>\n",
              "      <td>0</td>\n",
              "      <td>nonexistent</td>\n",
              "      <td>1.10</td>\n",
              "      <td>93.99</td>\n",
              "      <td>-36.40</td>\n",
              "      <td>4.86</td>\n",
              "      <td>5191.00</td>\n",
              "      <td>0</td>\n",
              "    </tr>\n",
              "  </tbody>\n",
              "</table>\n",
              "</div>"
            ],
            "text/plain": [
              "   age        job  marital  ... euribor3m nr.employed  y\n",
              "0   56  housemaid  married  ...      4.86     5191.00  0\n",
              "1   57   services  married  ...      4.86     5191.00  0\n",
              "2   37   services  married  ...      4.86     5191.00  0\n",
              "3   40     admin.  married  ...      4.86     5191.00  0\n",
              "4   56   services  married  ...      4.86     5191.00  0\n",
              "\n",
              "[5 rows x 21 columns]"
            ]
          },
          "metadata": {},
          "execution_count": 6
        }
      ]
    },
    {
      "cell_type": "markdown",
      "metadata": {
        "id": "uCFZxRtZzIU-"
      },
      "source": [
        "## CREATE AGE GROUP COLUMN"
      ]
    },
    {
      "cell_type": "code",
      "metadata": {
        "id": "uT6EOytT5Hva"
      },
      "source": [
        "# Create age group column for training data\n",
        "\n",
        "conditions = [(df['age'] < 25),\n",
        "              (df['age'] < 35) & (df['age'] >= 25),\n",
        "              (df['age'] < 60) & (df['age'] >= 35),\n",
        "              (df['age'] >= 60)]\n",
        "\n",
        "values = [1,2,3,4]\n",
        "\n",
        "df['age_group'] = np.select(conditions, values)"
      ],
      "execution_count": null,
      "outputs": []
    },
    {
      "cell_type": "code",
      "metadata": {
        "id": "8E4TE2NLAE7W"
      },
      "source": [
        "# Arrange columns order\n",
        "df = df[[df.columns[0]] + [df.columns[-1]] + list(df.columns[1:-1])]"
      ],
      "execution_count": null,
      "outputs": []
    },
    {
      "cell_type": "code",
      "metadata": {
        "colab": {
          "base_uri": "https://localhost:8080/",
          "height": 224
        },
        "id": "aH9JR_z10HGR",
        "outputId": "e9bd9b6c-b676-4b10-cfe4-3de842ec9c41"
      },
      "source": [
        "df.age_group = df.age_group.astype(object)\n",
        "\n",
        "df.head()"
      ],
      "execution_count": null,
      "outputs": [
        {
          "output_type": "execute_result",
          "data": {
            "text/html": [
              "<div>\n",
              "<style scoped>\n",
              "    .dataframe tbody tr th:only-of-type {\n",
              "        vertical-align: middle;\n",
              "    }\n",
              "\n",
              "    .dataframe tbody tr th {\n",
              "        vertical-align: top;\n",
              "    }\n",
              "\n",
              "    .dataframe thead th {\n",
              "        text-align: right;\n",
              "    }\n",
              "</style>\n",
              "<table border=\"1\" class=\"dataframe\">\n",
              "  <thead>\n",
              "    <tr style=\"text-align: right;\">\n",
              "      <th></th>\n",
              "      <th>age</th>\n",
              "      <th>age_group</th>\n",
              "      <th>job</th>\n",
              "      <th>marital</th>\n",
              "      <th>education</th>\n",
              "      <th>default</th>\n",
              "      <th>housing</th>\n",
              "      <th>loan</th>\n",
              "      <th>contact</th>\n",
              "      <th>month</th>\n",
              "      <th>day_of_week</th>\n",
              "      <th>duration</th>\n",
              "      <th>campaign</th>\n",
              "      <th>pdays</th>\n",
              "      <th>previous</th>\n",
              "      <th>poutcome</th>\n",
              "      <th>emp.var.rate</th>\n",
              "      <th>cons.price.idx</th>\n",
              "      <th>cons.conf.idx</th>\n",
              "      <th>euribor3m</th>\n",
              "      <th>nr.employed</th>\n",
              "      <th>y</th>\n",
              "    </tr>\n",
              "  </thead>\n",
              "  <tbody>\n",
              "    <tr>\n",
              "      <th>0</th>\n",
              "      <td>56</td>\n",
              "      <td>3</td>\n",
              "      <td>housemaid</td>\n",
              "      <td>married</td>\n",
              "      <td>2</td>\n",
              "      <td>0</td>\n",
              "      <td>0.00</td>\n",
              "      <td>0.00</td>\n",
              "      <td>telephone</td>\n",
              "      <td>may</td>\n",
              "      <td>mon</td>\n",
              "      <td>261</td>\n",
              "      <td>1</td>\n",
              "      <td>999</td>\n",
              "      <td>0</td>\n",
              "      <td>nonexistent</td>\n",
              "      <td>1.10</td>\n",
              "      <td>93.99</td>\n",
              "      <td>-36.40</td>\n",
              "      <td>4.86</td>\n",
              "      <td>5191.00</td>\n",
              "      <td>0</td>\n",
              "    </tr>\n",
              "    <tr>\n",
              "      <th>1</th>\n",
              "      <td>57</td>\n",
              "      <td>3</td>\n",
              "      <td>services</td>\n",
              "      <td>married</td>\n",
              "      <td>5</td>\n",
              "      <td>unknown</td>\n",
              "      <td>0.00</td>\n",
              "      <td>0.00</td>\n",
              "      <td>telephone</td>\n",
              "      <td>may</td>\n",
              "      <td>mon</td>\n",
              "      <td>149</td>\n",
              "      <td>1</td>\n",
              "      <td>999</td>\n",
              "      <td>0</td>\n",
              "      <td>nonexistent</td>\n",
              "      <td>1.10</td>\n",
              "      <td>93.99</td>\n",
              "      <td>-36.40</td>\n",
              "      <td>4.86</td>\n",
              "      <td>5191.00</td>\n",
              "      <td>0</td>\n",
              "    </tr>\n",
              "    <tr>\n",
              "      <th>2</th>\n",
              "      <td>37</td>\n",
              "      <td>3</td>\n",
              "      <td>services</td>\n",
              "      <td>married</td>\n",
              "      <td>5</td>\n",
              "      <td>0</td>\n",
              "      <td>1.00</td>\n",
              "      <td>0.00</td>\n",
              "      <td>telephone</td>\n",
              "      <td>may</td>\n",
              "      <td>mon</td>\n",
              "      <td>226</td>\n",
              "      <td>1</td>\n",
              "      <td>999</td>\n",
              "      <td>0</td>\n",
              "      <td>nonexistent</td>\n",
              "      <td>1.10</td>\n",
              "      <td>93.99</td>\n",
              "      <td>-36.40</td>\n",
              "      <td>4.86</td>\n",
              "      <td>5191.00</td>\n",
              "      <td>0</td>\n",
              "    </tr>\n",
              "    <tr>\n",
              "      <th>3</th>\n",
              "      <td>40</td>\n",
              "      <td>3</td>\n",
              "      <td>admin.</td>\n",
              "      <td>married</td>\n",
              "      <td>3</td>\n",
              "      <td>0</td>\n",
              "      <td>0.00</td>\n",
              "      <td>0.00</td>\n",
              "      <td>telephone</td>\n",
              "      <td>may</td>\n",
              "      <td>mon</td>\n",
              "      <td>151</td>\n",
              "      <td>1</td>\n",
              "      <td>999</td>\n",
              "      <td>0</td>\n",
              "      <td>nonexistent</td>\n",
              "      <td>1.10</td>\n",
              "      <td>93.99</td>\n",
              "      <td>-36.40</td>\n",
              "      <td>4.86</td>\n",
              "      <td>5191.00</td>\n",
              "      <td>0</td>\n",
              "    </tr>\n",
              "    <tr>\n",
              "      <th>4</th>\n",
              "      <td>56</td>\n",
              "      <td>3</td>\n",
              "      <td>services</td>\n",
              "      <td>married</td>\n",
              "      <td>5</td>\n",
              "      <td>0</td>\n",
              "      <td>0.00</td>\n",
              "      <td>1.00</td>\n",
              "      <td>telephone</td>\n",
              "      <td>may</td>\n",
              "      <td>mon</td>\n",
              "      <td>307</td>\n",
              "      <td>1</td>\n",
              "      <td>999</td>\n",
              "      <td>0</td>\n",
              "      <td>nonexistent</td>\n",
              "      <td>1.10</td>\n",
              "      <td>93.99</td>\n",
              "      <td>-36.40</td>\n",
              "      <td>4.86</td>\n",
              "      <td>5191.00</td>\n",
              "      <td>0</td>\n",
              "    </tr>\n",
              "  </tbody>\n",
              "</table>\n",
              "</div>"
            ],
            "text/plain": [
              "   age age_group        job  marital  ...  cons.conf.idx euribor3m  nr.employed  y\n",
              "0   56         3  housemaid  married  ...         -36.40      4.86      5191.00  0\n",
              "1   57         3   services  married  ...         -36.40      4.86      5191.00  0\n",
              "2   37         3   services  married  ...         -36.40      4.86      5191.00  0\n",
              "3   40         3     admin.  married  ...         -36.40      4.86      5191.00  0\n",
              "4   56         3   services  married  ...         -36.40      4.86      5191.00  0\n",
              "\n",
              "[5 rows x 22 columns]"
            ]
          },
          "metadata": {},
          "execution_count": 29
        }
      ]
    },
    {
      "cell_type": "markdown",
      "metadata": {
        "id": "O0NIIhG6LwER"
      },
      "source": [
        "## CLEAN EDUCATION ATTRIBUTE"
      ]
    },
    {
      "cell_type": "markdown",
      "metadata": {
        "id": "z9I9PCY6Bi32"
      },
      "source": [
        "### Rating education type with numeric raking"
      ]
    },
    {
      "cell_type": "code",
      "metadata": {
        "id": "YahQ224YEvrR"
      },
      "source": [
        "# Turn education level to value\n",
        "conditions = [df.education == 'illiterate',\n",
        "              df.education == 'basic.4y',\n",
        "              df.education == 'basic.6y',\n",
        "              df.education == 'basic.9y',\n",
        "              df.education == 'high.school',\n",
        "              df.education == 'professional.course',\n",
        "              df.education == 'university.degree']\n",
        "\n",
        "values = [1,2,3,4,5,6,7]\n",
        "\n",
        "df.education = np.select(conditions, values, default='unknown')"
      ],
      "execution_count": null,
      "outputs": []
    },
    {
      "cell_type": "code",
      "metadata": {
        "colab": {
          "base_uri": "https://localhost:8080/"
        },
        "id": "FmmQwm_yMmZN",
        "outputId": "75b3733b-eae9-4452-f75d-c3928e487bc8"
      },
      "source": [
        "df.education.unique()"
      ],
      "execution_count": null,
      "outputs": [
        {
          "output_type": "execute_result",
          "data": {
            "text/plain": [
              "array(['2', '5', '3', '4', '6', 'unknown', '7', '1'], dtype=object)"
            ]
          },
          "metadata": {},
          "execution_count": 10
        }
      ]
    },
    {
      "cell_type": "code",
      "metadata": {
        "colab": {
          "base_uri": "https://localhost:8080/"
        },
        "id": "NAbRW7HUr9la",
        "outputId": "001f9554-d779-4537-f7eb-19ec28912c3e"
      },
      "source": [
        "df.education.value_counts()"
      ],
      "execution_count": null,
      "outputs": [
        {
          "output_type": "execute_result",
          "data": {
            "text/plain": [
              "7          12168\n",
              "5           9515\n",
              "4           6045\n",
              "6           5243\n",
              "2           4176\n",
              "3           2292\n",
              "unknown     1731\n",
              "1             18\n",
              "Name: education, dtype: int64"
            ]
          },
          "metadata": {},
          "execution_count": 11
        }
      ]
    },
    {
      "cell_type": "markdown",
      "metadata": {
        "id": "-pxM-igsB-DF"
      },
      "source": [
        "### Filling unknown education basing their occupation (job)"
      ]
    },
    {
      "cell_type": "markdown",
      "metadata": {
        "id": "gL3Qom7IFD9K"
      },
      "source": [
        "We are not sure whether any diferences in education between diferent occupations. Let's check the diference by mean aggregation of education"
      ]
    },
    {
      "cell_type": "code",
      "metadata": {
        "colab": {
          "base_uri": "https://localhost:8080/",
          "height": 452
        },
        "id": "sVfAeNEHCUl9",
        "outputId": "1f1d5261-9ca2-4f16-93a6-72c5d28b2da7"
      },
      "source": [
        "known = df[df.education != 'unknown']\n",
        "known['education'] = known['education'].astype('int') #SettingWithCopyWarning\n",
        "\n",
        "gr_known = known.groupby('job').agg(mean=('education','mean'))\n",
        "\n",
        "gr_known"
      ],
      "execution_count": null,
      "outputs": [
        {
          "output_type": "execute_result",
          "data": {
            "text/html": [
              "<div>\n",
              "<style scoped>\n",
              "    .dataframe tbody tr th:only-of-type {\n",
              "        vertical-align: middle;\n",
              "    }\n",
              "\n",
              "    .dataframe tbody tr th {\n",
              "        vertical-align: top;\n",
              "    }\n",
              "\n",
              "    .dataframe thead th {\n",
              "        text-align: right;\n",
              "    }\n",
              "</style>\n",
              "<table border=\"1\" class=\"dataframe\">\n",
              "  <thead>\n",
              "    <tr style=\"text-align: right;\">\n",
              "      <th></th>\n",
              "      <th>mean</th>\n",
              "    </tr>\n",
              "    <tr>\n",
              "      <th>job</th>\n",
              "      <th></th>\n",
              "    </tr>\n",
              "  </thead>\n",
              "  <tbody>\n",
              "    <tr>\n",
              "      <th>admin.</th>\n",
              "      <td>6.06</td>\n",
              "    </tr>\n",
              "    <tr>\n",
              "      <th>blue-collar</th>\n",
              "      <td>3.54</td>\n",
              "    </tr>\n",
              "    <tr>\n",
              "      <th>entrepreneur</th>\n",
              "      <td>5.42</td>\n",
              "    </tr>\n",
              "    <tr>\n",
              "      <th>housemaid</th>\n",
              "      <td>3.69</td>\n",
              "    </tr>\n",
              "    <tr>\n",
              "      <th>management</th>\n",
              "      <td>6.28</td>\n",
              "    </tr>\n",
              "    <tr>\n",
              "      <th>retired</th>\n",
              "      <td>4.21</td>\n",
              "    </tr>\n",
              "    <tr>\n",
              "      <th>self-employed</th>\n",
              "      <td>5.82</td>\n",
              "    </tr>\n",
              "    <tr>\n",
              "      <th>services</th>\n",
              "      <td>4.82</td>\n",
              "    </tr>\n",
              "    <tr>\n",
              "      <th>student</th>\n",
              "      <td>5.25</td>\n",
              "    </tr>\n",
              "    <tr>\n",
              "      <th>technician</th>\n",
              "      <td>5.95</td>\n",
              "    </tr>\n",
              "    <tr>\n",
              "      <th>unemployed</th>\n",
              "      <td>5.08</td>\n",
              "    </tr>\n",
              "    <tr>\n",
              "      <th>unknown</th>\n",
              "      <td>4.35</td>\n",
              "    </tr>\n",
              "  </tbody>\n",
              "</table>\n",
              "</div>"
            ],
            "text/plain": [
              "               mean\n",
              "job                \n",
              "admin.         6.06\n",
              "blue-collar    3.54\n",
              "entrepreneur   5.42\n",
              "housemaid      3.69\n",
              "management     6.28\n",
              "retired        4.21\n",
              "self-employed  5.82\n",
              "services       4.82\n",
              "student        5.25\n",
              "technician     5.95\n",
              "unemployed     5.08\n",
              "unknown        4.35"
            ]
          },
          "metadata": {},
          "execution_count": 12
        }
      ]
    },
    {
      "cell_type": "code",
      "metadata": {
        "colab": {
          "base_uri": "https://localhost:8080/",
          "height": 37
        },
        "id": "e5SD7nRwH3Xt",
        "outputId": "7eb50bd0-930b-4b76-f852-ea9c257fbf3d"
      },
      "source": [
        "# This is how we get education value from each job\n",
        "gr_known.loc['self-employed', 'mean'].round().astype(int).astype(str)"
      ],
      "execution_count": null,
      "outputs": [
        {
          "output_type": "execute_result",
          "data": {
            "application/vnd.google.colaboratory.intrinsic+json": {
              "type": "string"
            },
            "text/plain": [
              "'6'"
            ]
          },
          "metadata": {},
          "execution_count": 13
        }
      ]
    },
    {
      "cell_type": "code",
      "metadata": {
        "id": "yPE2Bz30Ek8h"
      },
      "source": [
        "# define function to apply fill unknown education value\n",
        "\n",
        "def fill_unknown(row):\n",
        "  if row['job'] == 'admin.':\n",
        "    return gr_known.loc['admin.', 'mean'].round().astype(int).astype(str)\n",
        "  \n",
        "  if row['job'] == 'blue-collar':\n",
        "    return gr_known.loc['blue-collar', 'mean'].round().astype(int).astype(str)\n",
        "\n",
        "  if row['job'] == 'entrepreneur':\n",
        "    return gr_known.loc['entrepreneur', 'mean'].round().astype(int).astype(str)\n",
        "\n",
        "  if row['job'] == 'housemaid':\n",
        "    return gr_known.loc['housemaid', 'mean'].round().astype(int).astype(str)\n",
        "  \n",
        "  if row['job'] == 'management':\n",
        "    return gr_known.loc['management', 'mean'].round().astype(int).astype(str)\n",
        "    \n",
        "  if row['job'] == 'retired':\n",
        "    return gr_known.loc['retired', 'mean'].round().astype(int).astype(str)\n",
        "\n",
        "  if row['job'] == 'self-employed':\n",
        "    return gr_known.loc['self-employed', 'mean'].round().astype(int).astype(str)\n",
        "\n",
        "  if row['job'] == 'services':\n",
        "    return gr_known.loc['services', 'mean'].round().astype(int).astype(str)\n",
        "\n",
        "  if row['job'] == 'student':\n",
        "    return gr_known.loc['student', 'mean'].round().astype(int).astype(str)\n",
        "\n",
        "  if row['job'] == 'technician':\n",
        "    return gr_known.loc['technician', 'mean'].round().astype(int).astype(str)\n",
        "  \n",
        "  if row['job'] == 'unemployed':\n",
        "    return gr_known.loc['unemployed', 'mean'].round().astype(int).astype(str)\n",
        "\n",
        "  else:\n",
        "    return'unknown'"
      ],
      "execution_count": null,
      "outputs": []
    },
    {
      "cell_type": "code",
      "metadata": {
        "id": "0uk3fkvTLsAi"
      },
      "source": [
        "df.loc[df['education'] == 'unknown', 'education'] = df[df['education'] == 'unknown'].apply(fill_unknown, axis=1)"
      ],
      "execution_count": null,
      "outputs": []
    },
    {
      "cell_type": "code",
      "metadata": {
        "colab": {
          "base_uri": "https://localhost:8080/"
        },
        "id": "SyzAVWqRMce3",
        "outputId": "266863e8-97e7-47e7-822e-d3585eadf222"
      },
      "source": [
        "df.education.value_counts()"
      ],
      "execution_count": null,
      "outputs": [
        {
          "output_type": "execute_result",
          "data": {
            "text/plain": [
              "7          12168\n",
              "5           9908\n",
              "4           6639\n",
              "6           5856\n",
              "2           4176\n",
              "3           2292\n",
              "unknown      131\n",
              "1             18\n",
              "Name: education, dtype: int64"
            ]
          },
          "metadata": {},
          "execution_count": 16
        }
      ]
    },
    {
      "cell_type": "markdown",
      "metadata": {
        "id": "HB8VZAvzGwq5"
      },
      "source": [
        "### The rest (unknown education of unknown jobs) will be filled by mean education"
      ]
    },
    {
      "cell_type": "code",
      "metadata": {
        "id": "Urs-Fx_3Jcdb"
      },
      "source": [
        "# The unknown level will be changed to mean value\n",
        "mean = df[df.education != 'unknown'].education.astype('float32').mean()\n",
        "\n",
        "df.education = df.education.replace('unknown', str(round(mean)))"
      ],
      "execution_count": null,
      "outputs": []
    },
    {
      "cell_type": "code",
      "metadata": {
        "colab": {
          "base_uri": "https://localhost:8080/"
        },
        "id": "_3UI4rAMO8Ea",
        "outputId": "3da4b1bb-2a94-41d8-976d-3ad17e9e8273"
      },
      "source": [
        "df.education.value_counts()"
      ],
      "execution_count": null,
      "outputs": [
        {
          "output_type": "execute_result",
          "data": {
            "text/plain": [
              "7    12168\n",
              "5    10039\n",
              "4     6639\n",
              "6     5856\n",
              "2     4176\n",
              "3     2292\n",
              "1       18\n",
              "Name: education, dtype: int64"
            ]
          },
          "metadata": {},
          "execution_count": 18
        }
      ]
    },
    {
      "cell_type": "code",
      "metadata": {
        "colab": {
          "base_uri": "https://localhost:8080/"
        },
        "id": "3j1jR6k-p2tN",
        "outputId": "09df0218-5d63-43c3-f019-4ba8d57ac7f6"
      },
      "source": [
        "# Change education column type to numeric\n",
        "df.education= df.education.astype(int)\n",
        "df.info()"
      ],
      "execution_count": null,
      "outputs": [
        {
          "output_type": "stream",
          "name": "stdout",
          "text": [
            "<class 'pandas.core.frame.DataFrame'>\n",
            "RangeIndex: 41188 entries, 0 to 41187\n",
            "Data columns (total 22 columns):\n",
            " #   Column          Non-Null Count  Dtype  \n",
            "---  ------          --------------  -----  \n",
            " 0   age             41188 non-null  int64  \n",
            " 1   age_group       41188 non-null  int64  \n",
            " 2   job             41188 non-null  object \n",
            " 3   marital         41188 non-null  object \n",
            " 4   education       41188 non-null  int64  \n",
            " 5   default         41188 non-null  object \n",
            " 6   housing         41188 non-null  object \n",
            " 7   loan            41188 non-null  object \n",
            " 8   contact         41188 non-null  object \n",
            " 9   month           41188 non-null  object \n",
            " 10  day_of_week     41188 non-null  object \n",
            " 11  duration        41188 non-null  int64  \n",
            " 12  campaign        41188 non-null  int64  \n",
            " 13  pdays           41188 non-null  int64  \n",
            " 14  previous        41188 non-null  int64  \n",
            " 15  poutcome        41188 non-null  object \n",
            " 16  emp.var.rate    41188 non-null  float64\n",
            " 17  cons.price.idx  41188 non-null  float64\n",
            " 18  cons.conf.idx   41188 non-null  float64\n",
            " 19  euribor3m       41188 non-null  float64\n",
            " 20  nr.employed     41188 non-null  float64\n",
            " 21  y               41188 non-null  int64  \n",
            "dtypes: float64(5), int64(8), object(9)\n",
            "memory usage: 6.9+ MB\n"
          ]
        }
      ]
    },
    {
      "cell_type": "markdown",
      "metadata": {
        "id": "AqfG-heh1i_O"
      },
      "source": [
        "## PUT EVERYTHING IN 1 FUNCTION"
      ]
    },
    {
      "cell_type": "code",
      "metadata": {
        "id": "8M7Ppb_81nty"
      },
      "source": [
        "def clean_data(raw_df):\n",
        "  # 1. Yes/No to numerical data\n",
        "  df = raw_df.applymap(lambda x: 1 if x == 'yes' else (0 if x == 'no' else x))\n",
        "\n",
        "  # 2. Create age group column for training data\n",
        "  conditions = [(df['age'] < 25),\n",
        "                (df['age'] < 35) & (df['age'] >= 25),\n",
        "                (df['age'] < 60) & (df['age'] >= 35),\n",
        "                (df['age'] >= 60)]\n",
        "  values = [1,2,3,4]\n",
        "  df['age_group'] = np.select(conditions, values)\n",
        "  df = df[[df.columns[0]] + [df.columns[-1]] + list(df.columns[1:-1])] # Arrange columns order\n",
        "  df.age_group = df.age_group.astype(object)\n",
        "\n",
        "  # 3. Rating education type with numeric raking\n",
        "  # 3.1. Change education object data to numerical data\n",
        "  conditions = [df.education == 'illiterate',\n",
        "                df.education == 'basic.4y',\n",
        "                df.education == 'basic.6y',\n",
        "                df.education == 'basic.9y',\n",
        "                df.education == 'high.school',\n",
        "                df.education == 'professional.course',\n",
        "                df.education == 'university.degree']\n",
        "  values = [1,2,3,4,5,6,7]\n",
        "  df.education = np.select(conditions, values, default='unknown')\n",
        "\n",
        "  # 3.2. Filling unknown education basing their occupation (job)\n",
        "  # Groupby to find mean education of each job\n",
        "  known = df[df.education != 'unknown']\n",
        "  known['education'] = known['education'].astype('int') #SettingWithCopyWarning\n",
        "  gr_known = known.groupby('job').agg(mean=('education','mean'))\n",
        "\n",
        "  # Define function to apply fill unknown education value\n",
        "  def fill_unknown(row):\n",
        "    if row['job'] == 'admin.':\n",
        "      return gr_known.loc['admin.', 'mean'].round().astype(int).astype(str)    \n",
        "    if row['job'] == 'blue-collar':\n",
        "      return gr_known.loc['blue-collar', 'mean'].round().astype(int).astype(str)\n",
        "    if row['job'] == 'entrepreneur':\n",
        "      return gr_known.loc['entrepreneur', 'mean'].round().astype(int).astype(str)\n",
        "    if row['job'] == 'housemaid':\n",
        "      return gr_known.loc['housemaid', 'mean'].round().astype(int).astype(str)    \n",
        "    if row['job'] == 'management':\n",
        "      return gr_known.loc['management', 'mean'].round().astype(int).astype(str)     \n",
        "    if row['job'] == 'retired':\n",
        "      return gr_known.loc['retired', 'mean'].round().astype(int).astype(str)\n",
        "    if row['job'] == 'self-employed':\n",
        "      return gr_known.loc['self-employed', 'mean'].round().astype(int).astype(str)\n",
        "    if row['job'] == 'services':\n",
        "      return gr_known.loc['services', 'mean'].round().astype(int).astype(str)\n",
        "    if row['job'] == 'student':\n",
        "      return gr_known.loc['student', 'mean'].round().astype(int).astype(str)\n",
        "    if row['job'] == 'technician':\n",
        "      return gr_known.loc['technician', 'mean'].round().astype(int).astype(str)    \n",
        "    if row['job'] == 'unemployed':\n",
        "      return gr_known.loc['unemployed', 'mean'].round().astype(int).astype(str)\n",
        "    else:\n",
        "      return'unknown'\n",
        "  # Apply def function\n",
        "  df.loc[df['education'] == 'unknown', 'education'] = df[df['education'] == 'unknown'].apply(fill_unknown, axis=1)\n",
        "\n",
        "  # 3.3. The rest of unknown value will be changed to mean value\n",
        "  mean = df[df.education != 'unknown'].education.astype('float32').mean()\n",
        "  df.education = df.education.replace('unknown', str(round(mean)))\n",
        "\n",
        "  # 3.4. Change education column type to numeric\n",
        "  df.education= df.education.astype(int)\n",
        "\n",
        "  return df"
      ],
      "execution_count": null,
      "outputs": []
    },
    {
      "cell_type": "markdown",
      "metadata": {
        "id": "EPGW76q3I8kS"
      },
      "source": [
        "# **EXPORT DATA**"
      ]
    },
    {
      "cell_type": "code",
      "metadata": {
        "colab": {
          "base_uri": "https://localhost:8080/",
          "height": 224
        },
        "id": "2wT09G9P8REV",
        "outputId": "384952a3-95d0-4824-e13c-b7f8788cfaf6"
      },
      "source": [
        "df = clean_data(raw_df)\n",
        "df.head()"
      ],
      "execution_count": null,
      "outputs": [
        {
          "output_type": "execute_result",
          "data": {
            "text/html": [
              "<div>\n",
              "<style scoped>\n",
              "    .dataframe tbody tr th:only-of-type {\n",
              "        vertical-align: middle;\n",
              "    }\n",
              "\n",
              "    .dataframe tbody tr th {\n",
              "        vertical-align: top;\n",
              "    }\n",
              "\n",
              "    .dataframe thead th {\n",
              "        text-align: right;\n",
              "    }\n",
              "</style>\n",
              "<table border=\"1\" class=\"dataframe\">\n",
              "  <thead>\n",
              "    <tr style=\"text-align: right;\">\n",
              "      <th></th>\n",
              "      <th>age</th>\n",
              "      <th>age_group</th>\n",
              "      <th>job</th>\n",
              "      <th>marital</th>\n",
              "      <th>education</th>\n",
              "      <th>default</th>\n",
              "      <th>housing</th>\n",
              "      <th>loan</th>\n",
              "      <th>contact</th>\n",
              "      <th>month</th>\n",
              "      <th>day_of_week</th>\n",
              "      <th>duration</th>\n",
              "      <th>campaign</th>\n",
              "      <th>pdays</th>\n",
              "      <th>previous</th>\n",
              "      <th>poutcome</th>\n",
              "      <th>emp.var.rate</th>\n",
              "      <th>cons.price.idx</th>\n",
              "      <th>cons.conf.idx</th>\n",
              "      <th>euribor3m</th>\n",
              "      <th>nr.employed</th>\n",
              "      <th>y</th>\n",
              "    </tr>\n",
              "  </thead>\n",
              "  <tbody>\n",
              "    <tr>\n",
              "      <th>0</th>\n",
              "      <td>56</td>\n",
              "      <td>3</td>\n",
              "      <td>housemaid</td>\n",
              "      <td>married</td>\n",
              "      <td>2</td>\n",
              "      <td>0</td>\n",
              "      <td>0</td>\n",
              "      <td>0</td>\n",
              "      <td>telephone</td>\n",
              "      <td>may</td>\n",
              "      <td>mon</td>\n",
              "      <td>261</td>\n",
              "      <td>1</td>\n",
              "      <td>999</td>\n",
              "      <td>0</td>\n",
              "      <td>nonexistent</td>\n",
              "      <td>1.10</td>\n",
              "      <td>93.99</td>\n",
              "      <td>-36.40</td>\n",
              "      <td>4.86</td>\n",
              "      <td>5191.00</td>\n",
              "      <td>0</td>\n",
              "    </tr>\n",
              "    <tr>\n",
              "      <th>1</th>\n",
              "      <td>57</td>\n",
              "      <td>3</td>\n",
              "      <td>services</td>\n",
              "      <td>married</td>\n",
              "      <td>5</td>\n",
              "      <td>unknown</td>\n",
              "      <td>0</td>\n",
              "      <td>0</td>\n",
              "      <td>telephone</td>\n",
              "      <td>may</td>\n",
              "      <td>mon</td>\n",
              "      <td>149</td>\n",
              "      <td>1</td>\n",
              "      <td>999</td>\n",
              "      <td>0</td>\n",
              "      <td>nonexistent</td>\n",
              "      <td>1.10</td>\n",
              "      <td>93.99</td>\n",
              "      <td>-36.40</td>\n",
              "      <td>4.86</td>\n",
              "      <td>5191.00</td>\n",
              "      <td>0</td>\n",
              "    </tr>\n",
              "    <tr>\n",
              "      <th>2</th>\n",
              "      <td>37</td>\n",
              "      <td>3</td>\n",
              "      <td>services</td>\n",
              "      <td>married</td>\n",
              "      <td>5</td>\n",
              "      <td>0</td>\n",
              "      <td>1</td>\n",
              "      <td>0</td>\n",
              "      <td>telephone</td>\n",
              "      <td>may</td>\n",
              "      <td>mon</td>\n",
              "      <td>226</td>\n",
              "      <td>1</td>\n",
              "      <td>999</td>\n",
              "      <td>0</td>\n",
              "      <td>nonexistent</td>\n",
              "      <td>1.10</td>\n",
              "      <td>93.99</td>\n",
              "      <td>-36.40</td>\n",
              "      <td>4.86</td>\n",
              "      <td>5191.00</td>\n",
              "      <td>0</td>\n",
              "    </tr>\n",
              "    <tr>\n",
              "      <th>3</th>\n",
              "      <td>40</td>\n",
              "      <td>3</td>\n",
              "      <td>admin.</td>\n",
              "      <td>married</td>\n",
              "      <td>3</td>\n",
              "      <td>0</td>\n",
              "      <td>0</td>\n",
              "      <td>0</td>\n",
              "      <td>telephone</td>\n",
              "      <td>may</td>\n",
              "      <td>mon</td>\n",
              "      <td>151</td>\n",
              "      <td>1</td>\n",
              "      <td>999</td>\n",
              "      <td>0</td>\n",
              "      <td>nonexistent</td>\n",
              "      <td>1.10</td>\n",
              "      <td>93.99</td>\n",
              "      <td>-36.40</td>\n",
              "      <td>4.86</td>\n",
              "      <td>5191.00</td>\n",
              "      <td>0</td>\n",
              "    </tr>\n",
              "    <tr>\n",
              "      <th>4</th>\n",
              "      <td>56</td>\n",
              "      <td>3</td>\n",
              "      <td>services</td>\n",
              "      <td>married</td>\n",
              "      <td>5</td>\n",
              "      <td>0</td>\n",
              "      <td>0</td>\n",
              "      <td>1</td>\n",
              "      <td>telephone</td>\n",
              "      <td>may</td>\n",
              "      <td>mon</td>\n",
              "      <td>307</td>\n",
              "      <td>1</td>\n",
              "      <td>999</td>\n",
              "      <td>0</td>\n",
              "      <td>nonexistent</td>\n",
              "      <td>1.10</td>\n",
              "      <td>93.99</td>\n",
              "      <td>-36.40</td>\n",
              "      <td>4.86</td>\n",
              "      <td>5191.00</td>\n",
              "      <td>0</td>\n",
              "    </tr>\n",
              "  </tbody>\n",
              "</table>\n",
              "</div>"
            ],
            "text/plain": [
              "   age age_group        job  marital  ...  cons.conf.idx euribor3m nr.employed  y\n",
              "0   56         3  housemaid  married  ...         -36.40      4.86     5191.00  0\n",
              "1   57         3   services  married  ...         -36.40      4.86     5191.00  0\n",
              "2   37         3   services  married  ...         -36.40      4.86     5191.00  0\n",
              "3   40         3     admin.  married  ...         -36.40      4.86     5191.00  0\n",
              "4   56         3   services  married  ...         -36.40      4.86     5191.00  0\n",
              "\n",
              "[5 rows x 22 columns]"
            ]
          },
          "metadata": {},
          "execution_count": 48
        }
      ]
    },
    {
      "cell_type": "code",
      "metadata": {
        "id": "hFQNkQ220o2g"
      },
      "source": [
        "df.to_csv('bank_marketing_cleaned.csv', index=False)\n",
        "!cp bank_marketing_cleaned.csv '/content/gdrive/MyDrive/Final Project'"
      ],
      "execution_count": null,
      "outputs": []
    }
  ]
}